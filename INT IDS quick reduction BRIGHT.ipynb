{
 "cells": [
  {
   "cell_type": "markdown",
   "metadata": {},
   "source": [
    "## INT IDS Long-slit Spectroscopy Reduction\n",
    "\n",
    "This pipeline performs all the basic CCD data reduction. The steps are as follows:\n",
    "- create a master bias frame\n",
    "- create a master lamp flat frame\n",
    "- create a master sky flat frame\n",
    "\n",
    "- reduce individual science frames. Perform gain correction, bias subtraction, flat fielding and sky subtraction\n",
    "- median combine reduced science frames into a deep spectrum\n",
    "\n",
    "- reduce arc frames for wavelength calibration\n",
    "\n",
    "- wavelength calibrate the 2D science spectrum\n",
    "- extract and save 1D spectrum from a given position and aperture size. This feature requires the python package mpdaf. This can be downloaded using `pip install mpdaf` for python2 or `pip3 install mpdaf` for python3.\n",
    "\n",
    "To add: flux calibration\n",
    "\n",
    "The following reduction code works directly from the full set of images in a given night's observations. As observations are added during the evening, the ImageFileCollection object defined at the beginning needs to be refreshed.\n",
    "\n",
    "ftp where frames are stored: rsync -av intobs@intdrpc1:/obsdata/inta/20190405/ .\n",
    "\n",
    "password: int_guest"
   ]
  },
  {
   "cell_type": "code",
   "execution_count": 34,
   "metadata": {},
   "outputs": [],
   "source": [
    "### Import all relevant packages.\n",
    "import warnings\n",
    "import numpy as np\n",
    "\n",
    "from multiprocessing import Pool\n",
    "from functools import partial\n",
    "import os\n",
    "\n",
    "import astropy.units as u\n",
    "from astropy.io import fits\n",
    "from astropy.modeling import polynomial, fitting\n",
    "from astropy.stats import sigma_clip, mad_std\n",
    "from astropy.convolution import convolve, Gaussian2DKernel\n",
    "\n",
    "from scipy.ndimage import binary_dilation\n",
    "from astropy.utils.console import ProgressBar\n",
    "\n",
    "import ccdproc\n",
    "from ccdproc import ImageFileCollection, CCDData\n",
    "from astropy.stats import sigma_clipped_stats\n",
    "import scipy.optimize as optimize\n",
    "\n",
    "import glob\n",
    "\n",
    "import scipy\n",
    "import matplotlib.pyplot as plt\n",
    "\n",
    "from mpdaf.obj import Spectrum, WaveCoord"
   ]
  },
  {
   "cell_type": "code",
   "execution_count": 51,
   "metadata": {},
   "outputs": [],
   "source": [
    "### Define functions relevant for calibration\n",
    "\n",
    "def fit_chebyshev(row, degree=7, grow=3):\n",
    "    \"\"\"\n",
    "    Fit Chebyshev1D model to a CCD row, including masking of outlier pixels\n",
    "    \n",
    "    Params\n",
    "    ------\n",
    "    row : array,\n",
    "        Input CCD row to fit polynomial to.\n",
    "    degree : int,\n",
    "        Chebyshev Polynomial Order\n",
    "    grow : int,\n",
    "        Number of iterations to dilate around masked pixels\n",
    "    \"\"\"\n",
    "\n",
    "    fitter = fitting.LinearLSQFitter()\n",
    "    input_mask = row.mask\n",
    "    clipped = sigma_clip(row, sigma=15, stdfunc=mad_std)\n",
    "    clipped_pixels = np.array(clipped.mask+row.mask).astype('float')\n",
    "    clipped_pixels = binary_dilation(clipped_pixels, iterations=grow)\n",
    "\n",
    "    row[clipped_pixels==1] = np.median(row)\n",
    "    masked_row = np.ma.array(data=row, \n",
    "                             mask=(clipped_pixels == 1), \n",
    "                             fill_value=np.median(row))\n",
    "    x = np.arange(len(row))\n",
    "    model = polynomial.Chebyshev1D(degree=degree)\n",
    "    fitted_model = fitter(model, x, row)\n",
    "    return fitted_model(np.arange(len(row)))\n",
    "\n",
    "\n",
    "\n",
    "def fit_background(data, degree=7, grow=3, verbose=True, njobs=8):\n",
    "    \"\"\"\n",
    "    Parallelised background estimation for longslit CCD image\n",
    "    \n",
    "    Params\n",
    "    ------\n",
    "    data : array,\n",
    "        Input CCD data for background estimation.\n",
    "    degree : int,\n",
    "        Chebyshev Polynomial Order\n",
    "    grow : int,\n",
    "        Number of iterations to dilate around masked pixels\n",
    "    njobs : int\n",
    "        Number of processes to initiate for fitting\n",
    "    \"\"\"\n",
    "    kwargs={'degree': degree, 'grow': grow}    \n",
    "    p = Pool()\n",
    "    fitted_sky = p.map(partial(fit_chebyshev, **kwargs), data)\n",
    "    p.close()\n",
    "    \n",
    "    \n",
    "    fitted_sky = np.array(np.shape(data))\n",
    "    \n",
    "    return np.array(fitted_sky).astype('float')\n",
    "        \n",
    "        \n",
    "### Dispersion functions wavelength calibration\n",
    "def wavesol(x, m, c):\n",
    "    return m*x + c\n",
    "\n",
    "def gauss(x, *p):\n",
    "    A, mu, sigma = p\n",
    "    return A*np.exp(-(x-mu)**2/(2.*sigma**2))\n",
    "    "
   ]
  },
  {
   "cell_type": "code",
   "execution_count": 17,
   "metadata": {},
   "outputs": [],
   "source": [
    "### Select observing night, the working directory and create the relevant folders\n",
    "\n",
    "obs_night = \"2022_06_07\"\n",
    "\n",
    "### Directory with all the raw files from an observing night\n",
    "workdir = \"/Users/aayushsaxena/Desktop/UCL/Suhail-INT-2021/data/%s/\" %obs_night\n",
    "\n",
    "os.chdir(workdir)\n",
    "\n",
    "try:\n",
    "    os.mkdir(\"./processed/\")\n",
    "except OSError:\n",
    "    pass\n"
   ]
  },
  {
   "cell_type": "code",
   "execution_count": 18,
   "metadata": {},
   "outputs": [
    {
     "name": "stderr",
     "output_type": "stream",
     "text": [
      "/usr/local/lib/python3.8/site-packages/ccdproc/image_collection.py:544: UserWarning: Header from file \"/Users/aayushsaxena/Desktop/UCL/Suhail-INT-2021/data/2022_06_07/r1616265.fit\" contains multiple entries for \"instrume\", the pair \"instrume=AG0\" will be ignored.\n",
      "  warnings.warn(\n"
     ]
    },
    {
     "data": {
      "text/html": [
       "<div><i>Table masked=True length=43</i>\n",
       "<table id=\"table5220551552\" class=\"table-striped table-bordered table-condensed\">\n",
       "<thead><tr><th>file</th><th>simple</th><th>bitpix</th><th>naxis</th><th>extend</th><th>run</th><th>irafname</th><th>runset</th><th>sysver</th><th>origin</th><th>observat</th><th>observer</th><th>proposal</th><th>object</th><th>obstype</th><th>imagetyp</th><th>latitude</th><th>longitud</th><th>height</th><th>slatel</th><th>telescop</th><th>telstat</th><th>ra</th><th>dec</th><th>equinox</th><th>radecsys</th><th>utobs</th><th>xapnom</th><th>yapnom</th><th>xapoff</th><th>yapoff</th><th>raoff</th><th>decoff</th><th>mjd-obs</th><th>jd</th><th>ststart</th><th>st</th><th>azstart</th><th>azend</th><th>zdstart</th><th>zdend</th><th>fstation</th><th>platesca</th><th>telfocus</th><th>actelfoc</th><th>rottrack</th><th>rotskypa</th><th>mntpasta</th><th>mntpaend</th><th>paransta</th><th>paranend</th><th>vignette</th><th>dazstart</th><th>dazend</th><th>airmass</th><th>amstart</th><th>amend</th><th>temptube</th><th>focustmp</th><th>focusalt</th><th>focusflt</th><th>autox</th><th>autoy</th><th>automode</th><th>cat-name</th><th>cat-ra</th><th>cat-dec</th><th>cat-equi</th><th>cat-epoc</th><th>pm-ra</th><th>pm-dec</th><th>parallax</th><th>radvel</th><th>ratrack</th><th>dectrack</th><th>agtvposx</th><th>agtvposy</th><th>agtvfilt</th><th>agtvshut</th><th>agposx</th><th>agposy</th><th>asndfilt</th><th>ascfilt</th><th>agarclmp</th><th>compmpos</th><th>autofilt</th><th>agcfilna</th><th>agcfilnb</th><th>instrume</th><th>camera</th><th>slitwid</th><th>pslitwid</th><th>sltwdsky</th><th>dekkerid</th><th>dekpos</th><th>bscfilt</th><th>bsndfilt</th><th>collname</th><th>collfoc</th><th>hartmanr</th><th>hartmanl</th><th>gratname</th><th>glinesmm</th><th>gratblaz</th><th>gratangl</th><th>gratshut</th><th>cenwave</th><th>detector</th><th>ccdspeed</th><th>ccdxbin</th><th>ccdybin</th><th>ccdsum</th><th>ccdtemp</th><th>ccdtemp1</th><th>ccdtemp2</th><th>nwindows</th><th>winsec1</th><th>winsec2</th><th>winsec3</th><th>winsec4</th><th>readmode</th><th>stormode</th><th>numreads</th><th>coaverag</th><th>date-obs</th><th>ut</th><th>utstart</th><th>ut-mid</th><th>exposed</th><th>exptime</th><th>elapsed</th><th>darktime</th><th>reqtime</th></tr></thead>\n",
       "<thead><tr><th>str12</th><th>bool</th><th>int64</th><th>int64</th><th>bool</th><th>int64</th><th>str8</th><th>object</th><th>object</th><th>object</th><th>object</th><th>object</th><th>object</th><th>object</th><th>object</th><th>object</th><th>object</th><th>object</th><th>object</th><th>object</th><th>object</th><th>object</th><th>object</th><th>object</th><th>object</th><th>object</th><th>object</th><th>object</th><th>object</th><th>object</th><th>object</th><th>object</th><th>object</th><th>object</th><th>object</th><th>object</th><th>object</th><th>object</th><th>object</th><th>object</th><th>object</th><th>object</th><th>object</th><th>object</th><th>object</th><th>object</th><th>object</th><th>object</th><th>object</th><th>object</th><th>object</th><th>object</th><th>object</th><th>object</th><th>object</th><th>object</th><th>object</th><th>object</th><th>object</th><th>object</th><th>object</th><th>object</th><th>object</th><th>object</th><th>object</th><th>object</th><th>object</th><th>object</th><th>object</th><th>object</th><th>object</th><th>object</th><th>object</th><th>object</th><th>object</th><th>object</th><th>object</th><th>object</th><th>object</th><th>object</th><th>object</th><th>object</th><th>object</th><th>object</th><th>object</th><th>object</th><th>object</th><th>object</th><th>str3</th><th>object</th><th>object</th><th>object</th><th>object</th><th>object</th><th>object</th><th>object</th><th>object</th><th>object</th><th>object</th><th>object</th><th>object</th><th>object</th><th>object</th><th>object</th><th>object</th><th>object</th><th>object</th><th>str5</th><th>str4</th><th>int64</th><th>int64</th><th>str3</th><th>float64</th><th>float64</th><th>float64</th><th>int64</th><th>str26</th><th>str19</th><th>str19</th><th>str19</th><th>str6</th><th>str6</th><th>int64</th><th>int64</th><th>str10</th><th>str12</th><th>str12</th><th>str12</th><th>float64</th><th>float64</th><th>float64</th><th>float64</th><th>float64</th></tr></thead>\n",
       "<tr><td>r1616202.fit</td><td>True</td><td>8</td><td>0</td><td>True</td><td>1616202</td><td>r1616202</td><td>1:21:1616202</td><td>/int/release</td><td>ING La Palma</td><td>LAPALMA</td><td>Roberts</td><td>N1</td><td>Bias</td><td>BIAS</td><td>zero</td><td>28.761923</td><td>-17.877574</td><td>2348</td><td>LPO2.5</td><td>INT</td><td>ENGMODE</td><td>0:00:00.000</td><td>+00:00:00.00</td><td>2000.0</td><td>FK5</td><td>19:39:59.2</td><td>-0.0697222242</td><td>0.0905555552</td><td>-0.0697222242</td><td>0.0905555552</td><td>0.0</td><td>0.0</td><td>59736.8194354</td><td>2459737.3194354</td><td>11:29:14.5</td><td>11:29:14.5</td><td>359.981814</td><td>359.981814</td><td>0.329991</td><td>0.329991</td><td>CASSEGRAIN</td><td>1.502645</td><td>0.016802</td><td>0.017508</td><td>True</td><td>358.988158</td><td>358.988158</td><td>358.988158</td><td>54.666683</td><td>54.664743</td><td>False</td><td>90.663391</td><td>90.663391</td><td>1.000017</td><td>1.000017</td><td>1.000017</td><td>14.501039</td><td>0.706141</td><td>0.0</td><td>0.0</td><td>0.0</td><td>0.0</td><td>UNLOCKED</td><td>TEST</td><td>4:00:00.000</td><td>+24:00:00.00</td><td>J2000.00</td><td>2000.0</td><td>0.0</td><td>0.0</td><td>0.0</td><td>0.0</td><td>0.0</td><td>0.0</td><td>0.497581</td><td>0.500003</td><td>F0 Clear</td><td>OPEN</td><td>0.425001</td><td>0.425005</td><td>NullName</td><td>F0 Clear</td><td></td><td>OUT</td><td>F0 Clear</td><td>F0 Clear</td><td>F0 Clear</td><td>IDS</td><td>235</td><td>0.000275</td><td>0.048</td><td>1.488</td><td>D-CORO</td><td>P0 Clear</td><td>F0 Clear</td><td>F0 empty</td><td>Al-wide</td><td>218</td><td>OPEN</td><td>OPEN</td><td>R300V</td><td>300</td><td>5460.0</td><td>66.87</td><td>OPEN</td><td>5643.217</td><td>EEV10</td><td>SLOW</td><td>1</td><td>1</td><td>1 1</td><td>150.951</td><td>0.0</td><td>0.0</td><td>1</td><td>[785:1150,1:4200], enabled</td><td>[0:0,0:0], disabled</td><td>[0:0,0:0], disabled</td><td>[0:0,0:0], disabled</td><td>simple</td><td>normal</td><td>1</td><td>1</td><td>2022-06-06</td><td>19:39:59.847</td><td>19:39:59.847</td><td>19:39:59.847</td><td>0.0</td><td>0.0</td><td>0.62546741</td><td>0.62546741</td><td>0.0</td></tr>\n",
       "<tr><td>r1616203.fit</td><td>True</td><td>8</td><td>0</td><td>True</td><td>1616203</td><td>r1616203</td><td>2:21:1616202</td><td>/int/release</td><td>ING La Palma</td><td>LAPALMA</td><td>Roberts</td><td>N1</td><td>Bias</td><td>BIAS</td><td>zero</td><td>28.761923</td><td>-17.877574</td><td>2348</td><td>LPO2.5</td><td>INT</td><td>ENGMODE</td><td>0:00:00.000</td><td>+00:00:00.00</td><td>2000.0</td><td>FK5</td><td>19:40:12.2</td><td>-0.0697222242</td><td>0.0905555552</td><td>-0.0697222242</td><td>0.0905555552</td><td>0.0</td><td>0.0</td><td>59736.8195858</td><td>2459737.3195858</td><td>11:29:27.6</td><td>11:29:27.6</td><td>359.981814</td><td>359.981814</td><td>0.329991</td><td>0.329991</td><td>CASSEGRAIN</td><td>1.502645</td><td>0.016802</td><td>0.017508</td><td>True</td><td>358.988158</td><td>358.988158</td><td>358.988158</td><td>54.641452</td><td>54.641452</td><td>False</td><td>90.663391</td><td>90.663391</td><td>1.000017</td><td>1.000017</td><td>1.000017</td><td>14.500412</td><td>0.706141</td><td>0.0</td><td>0.0</td><td>0.0</td><td>0.0</td><td>UNLOCKED</td><td>TEST</td><td>4:00:00.000</td><td>+24:00:00.00</td><td>J2000.00</td><td>2000.0</td><td>0.0</td><td>0.0</td><td>0.0</td><td>0.0</td><td>0.0</td><td>0.0</td><td>0.497581</td><td>0.500003</td><td>F0 Clear</td><td>OPEN</td><td>0.425001</td><td>0.425005</td><td>NullName</td><td>F0 Clear</td><td></td><td>OUT</td><td>F0 Clear</td><td>F0 Clear</td><td>F0 Clear</td><td>IDS</td><td>235</td><td>0.000275</td><td>0.048</td><td>1.488</td><td>D-CORO</td><td>P0 Clear</td><td>F0 Clear</td><td>F0 empty</td><td>Al-wide</td><td>218</td><td>OPEN</td><td>OPEN</td><td>R300V</td><td>300</td><td>5460.0</td><td>66.87</td><td>OPEN</td><td>5643.217</td><td>EEV10</td><td>SLOW</td><td>1</td><td>1</td><td>1 1</td><td>150.951</td><td>0.0</td><td>0.0</td><td>1</td><td>[785:1150,1:4200], enabled</td><td>[0:0,0:0], disabled</td><td>[0:0,0:0], disabled</td><td>[0:0,0:0], disabled</td><td>simple</td><td>normal</td><td>1</td><td>1</td><td>2022-06-06</td><td>19:40:12.189</td><td>19:40:12.189</td><td>19:40:12.189</td><td>0.0</td><td>0.0</td><td>0.79120923</td><td>0.79120923</td><td>0.0</td></tr>\n",
       "<tr><td>r1616204.fit</td><td>True</td><td>8</td><td>0</td><td>True</td><td>1616204</td><td>r1616204</td><td>3:21:1616202</td><td>/int/release</td><td>ING La Palma</td><td>LAPALMA</td><td>Roberts</td><td>N1</td><td>Bias</td><td>BIAS</td><td>zero</td><td>28.761923</td><td>-17.877574</td><td>2348</td><td>LPO2.5</td><td>INT</td><td>ENGMODE</td><td>0:00:00.000</td><td>+00:00:00.00</td><td>2000.0</td><td>FK5</td><td>19:40:24.2</td><td>-0.0697222242</td><td>0.0905555552</td><td>-0.0697222242</td><td>0.0905555552</td><td>0.0</td><td>0.0</td><td>59736.8197247</td><td>2459737.3197247</td><td>11:29:39.6</td><td>11:29:39.6</td><td>359.981814</td><td>359.981814</td><td>0.329991</td><td>0.329991</td><td>CASSEGRAIN</td><td>1.502645</td><td>0.016802</td><td>0.017508</td><td>True</td><td>358.988158</td><td>358.988158</td><td>358.988158</td><td>54.618144</td><td>54.616201</td><td>False</td><td>90.663391</td><td>90.663391</td><td>1.000017</td><td>1.000017</td><td>1.000017</td><td>14.499805</td><td>0.706141</td><td>0.0</td><td>0.0</td><td>0.0</td><td>0.0</td><td>UNLOCKED</td><td>TEST</td><td>4:00:00.000</td><td>+24:00:00.00</td><td>J2000.00</td><td>2000.0</td><td>0.0</td><td>0.0</td><td>0.0</td><td>0.0</td><td>0.0</td><td>0.0</td><td>0.497581</td><td>0.500003</td><td>F0 Clear</td><td>OPEN</td><td>0.425001</td><td>0.425005</td><td>NullName</td><td>F0 Clear</td><td></td><td>OUT</td><td>F0 Clear</td><td>F0 Clear</td><td>F0 Clear</td><td>IDS</td><td>235</td><td>0.000275</td><td>0.048</td><td>1.488</td><td>D-CORO</td><td>P0 Clear</td><td>F0 Clear</td><td>F0 empty</td><td>Al-wide</td><td>218</td><td>OPEN</td><td>OPEN</td><td>R300V</td><td>300</td><td>5460.0</td><td>66.87</td><td>OPEN</td><td>5643.217</td><td>EEV10</td><td>SLOW</td><td>1</td><td>1</td><td>1 1</td><td>150.951</td><td>0.0</td><td>0.0</td><td>1</td><td>[785:1150,1:4200], enabled</td><td>[0:0,0:0], disabled</td><td>[0:0,0:0], disabled</td><td>[0:0,0:0], disabled</td><td>simple</td><td>normal</td><td>1</td><td>1</td><td>2022-06-06</td><td>19:40:24.712</td><td>19:40:24.712</td><td>19:40:24.712</td><td>0.0</td><td>0.0</td><td>0.76992977</td><td>0.76992977</td><td>0.0</td></tr>\n",
       "<tr><td>r1616205.fit</td><td>True</td><td>8</td><td>0</td><td>True</td><td>1616205</td><td>r1616205</td><td>4:21:1616202</td><td>/int/release</td><td>ING La Palma</td><td>LAPALMA</td><td>Roberts</td><td>N1</td><td>Bias</td><td>BIAS</td><td>zero</td><td>28.761923</td><td>-17.877574</td><td>2348</td><td>LPO2.5</td><td>INT</td><td>ENGMODE</td><td>0:00:00.000</td><td>+00:00:00.00</td><td>2000.0</td><td>FK5</td><td>19:40:37.2</td><td>-0.0697222242</td><td>0.0905555552</td><td>-0.0697222242</td><td>0.0905555552</td><td>0.0</td><td>0.0</td><td>59736.8198752</td><td>2459737.3198752</td><td>11:29:52.6</td><td>11:29:52.6</td><td>359.981814</td><td>359.981814</td><td>0.329991</td><td>0.329991</td><td>CASSEGRAIN</td><td>1.502645</td><td>0.016802</td><td>0.017508</td><td>True</td><td>358.988158</td><td>358.988158</td><td>358.988158</td><td>54.592869</td><td>54.592869</td><td>False</td><td>90.663391</td><td>90.663391</td><td>1.000017</td><td>1.000017</td><td>1.000017</td><td>14.499159</td><td>0.706141</td><td>0.0</td><td>0.0</td><td>0.0</td><td>0.0</td><td>UNLOCKED</td><td>TEST</td><td>4:00:00.000</td><td>+24:00:00.00</td><td>J2000.00</td><td>2000.0</td><td>0.0</td><td>0.0</td><td>0.0</td><td>0.0</td><td>0.0</td><td>0.0</td><td>0.497581</td><td>0.500003</td><td>F0 Clear</td><td>OPEN</td><td>0.425001</td><td>0.425005</td><td>NullName</td><td>F0 Clear</td><td></td><td>OUT</td><td>F0 Clear</td><td>F0 Clear</td><td>F0 Clear</td><td>IDS</td><td>235</td><td>0.000275</td><td>0.048</td><td>1.488</td><td>D-CORO</td><td>P0 Clear</td><td>F0 Clear</td><td>F0 empty</td><td>Al-wide</td><td>217</td><td>OPEN</td><td>OPEN</td><td>R300V</td><td>300</td><td>5460.0</td><td>66.87</td><td>OPEN</td><td>5643.217</td><td>EEV10</td><td>SLOW</td><td>1</td><td>1</td><td>1 1</td><td>150.951</td><td>0.0</td><td>0.0</td><td>1</td><td>[785:1150,1:4200], enabled</td><td>[0:0,0:0], disabled</td><td>[0:0,0:0], disabled</td><td>[0:0,0:0], disabled</td><td>simple</td><td>normal</td><td>1</td><td>1</td><td>2022-06-06</td><td>19:40:37.199</td><td>19:40:37.199</td><td>19:40:37.199</td><td>0.0</td><td>0.0</td><td>0.73386602</td><td>0.73386602</td><td>0.0</td></tr>\n",
       "<tr><td>r1616206.fit</td><td>True</td><td>8</td><td>0</td><td>True</td><td>1616206</td><td>r1616206</td><td>5:21:1616202</td><td>/int/release</td><td>ING La Palma</td><td>LAPALMA</td><td>Roberts</td><td>N1</td><td>Bias</td><td>BIAS</td><td>zero</td><td>28.761923</td><td>-17.877574</td><td>2348</td><td>LPO2.5</td><td>INT</td><td>ENGMODE</td><td>0:00:00.000</td><td>+00:00:00.00</td><td>2000.0</td><td>FK5</td><td>19:40:49.2</td><td>-0.0697222242</td><td>0.0905555552</td><td>-0.0697222242</td><td>0.0905555552</td><td>0.0</td><td>0.0</td><td>59736.8200141</td><td>2459737.3200141</td><td>11:30:04.7</td><td>11:30:04.7</td><td>359.981814</td><td>359.981814</td><td>0.329991</td><td>0.329991</td><td>CASSEGRAIN</td><td>1.502645</td><td>0.016802</td><td>0.017508</td><td>True</td><td>358.988158</td><td>358.988158</td><td>358.988158</td><td>54.56952</td><td>54.56952</td><td>False</td><td>90.663391</td><td>90.663391</td><td>1.000017</td><td>1.000017</td><td>1.000017</td><td>14.498565</td><td>0.706141</td><td>0.0</td><td>0.0</td><td>0.0</td><td>0.0</td><td>UNLOCKED</td><td>TEST</td><td>4:00:00.000</td><td>+24:00:00.00</td><td>J2000.00</td><td>2000.0</td><td>0.0</td><td>0.0</td><td>0.0</td><td>0.0</td><td>0.0</td><td>0.0</td><td>0.497581</td><td>0.500003</td><td>F0 Clear</td><td>OPEN</td><td>0.425001</td><td>0.425005</td><td>NullName</td><td>F0 Clear</td><td></td><td>OUT</td><td>F0 Clear</td><td>F0 Clear</td><td>F0 Clear</td><td>IDS</td><td>235</td><td>0.000275</td><td>0.048</td><td>1.488</td><td>D-CORO</td><td>P0 Clear</td><td>F0 Clear</td><td>F0 empty</td><td>Al-wide</td><td>217</td><td>OPEN</td><td>OPEN</td><td>R300V</td><td>300</td><td>5460.0</td><td>66.87</td><td>OPEN</td><td>5643.217</td><td>EEV10</td><td>SLOW</td><td>1</td><td>1</td><td>1 1</td><td>150.951</td><td>0.0</td><td>0.0</td><td>1</td><td>[785:1150,1:4200], enabled</td><td>[0:0,0:0], disabled</td><td>[0:0,0:0], disabled</td><td>[0:0,0:0], disabled</td><td>simple</td><td>normal</td><td>1</td><td>1</td><td>2022-06-06</td><td>19:40:49.658</td><td>19:40:49.658</td><td>19:40:49.658</td><td>0.0</td><td>0.0</td><td>0.50501286</td><td>0.50501286</td><td>0.0</td></tr>\n",
       "<tr><td>r1616207.fit</td><td>True</td><td>8</td><td>0</td><td>True</td><td>1616207</td><td>r1616207</td><td>6:21:1616202</td><td>/int/release</td><td>ING La Palma</td><td>LAPALMA</td><td>Roberts</td><td>N1</td><td>Bias</td><td>BIAS</td><td>zero</td><td>28.761923</td><td>-17.877574</td><td>2348</td><td>LPO2.5</td><td>INT</td><td>ENGMODE</td><td>0:00:00.000</td><td>+00:00:00.00</td><td>2000.0</td><td>FK5</td><td>19:41:01.2</td><td>-0.0697222242</td><td>0.0905555552</td><td>-0.0697222242</td><td>0.0905555552</td><td>0.0</td><td>0.0</td><td>59736.820153</td><td>2459737.320153</td><td>11:30:16.7</td><td>11:30:16.7</td><td>359.981814</td><td>359.981814</td><td>0.329991</td><td>0.329991</td><td>CASSEGRAIN</td><td>1.502645</td><td>0.016802</td><td>0.017508</td><td>True</td><td>358.988158</td><td>358.988158</td><td>358.988158</td><td>54.546154</td><td>54.544204</td><td>False</td><td>90.663391</td><td>90.663391</td><td>1.000017</td><td>1.000017</td><td>1.000017</td><td>14.497905</td><td>0.706141</td><td>0.0</td><td>0.0</td><td>0.0</td><td>0.0</td><td>UNLOCKED</td><td>TEST</td><td>4:00:00.000</td><td>+24:00:00.00</td><td>J2000.00</td><td>2000.0</td><td>0.0</td><td>0.0</td><td>0.0</td><td>0.0</td><td>0.0</td><td>0.0</td><td>0.497581</td><td>0.500003</td><td>F0 Clear</td><td>OPEN</td><td>0.425001</td><td>0.425005</td><td>NullName</td><td>F0 Clear</td><td></td><td>OUT</td><td>F0 Clear</td><td>F0 Clear</td><td>F0 Clear</td><td>IDS</td><td>235</td><td>0.000275</td><td>0.048</td><td>1.488</td><td>D-CORO</td><td>P0 Clear</td><td>F0 Clear</td><td>F0 empty</td><td>Al-wide</td><td>218</td><td>OPEN</td><td>OPEN</td><td>R300V</td><td>300</td><td>5460.0</td><td>66.87</td><td>OPEN</td><td>5643.217</td><td>EEV10</td><td>SLOW</td><td>1</td><td>1</td><td>1 1</td><td>150.951</td><td>0.0</td><td>0.0</td><td>1</td><td>[785:1150,1:4200], enabled</td><td>[0:0,0:0], disabled</td><td>[0:0,0:0], disabled</td><td>[0:0,0:0], disabled</td><td>simple</td><td>normal</td><td>1</td><td>1</td><td>2022-06-06</td><td>19:41:01.879</td><td>19:41:01.879</td><td>19:41:01.879</td><td>0.0</td><td>0.0</td><td>0.68169891</td><td>0.68169891</td><td>0.0</td></tr>\n",
       "<tr><td>...</td><td>...</td><td>...</td><td>...</td><td>...</td><td>...</td><td>...</td><td>...</td><td>...</td><td>...</td><td>...</td><td>...</td><td>...</td><td>...</td><td>...</td><td>...</td><td>...</td><td>...</td><td>...</td><td>...</td><td>...</td><td>...</td><td>...</td><td>...</td><td>...</td><td>...</td><td>...</td><td>...</td><td>...</td><td>...</td><td>...</td><td>...</td><td>...</td><td>...</td><td>...</td><td>...</td><td>...</td><td>...</td><td>...</td><td>...</td><td>...</td><td>...</td><td>...</td><td>...</td><td>...</td><td>...</td><td>...</td><td>...</td><td>...</td><td>...</td><td>...</td><td>...</td><td>...</td><td>...</td><td>...</td><td>...</td><td>...</td><td>...</td><td>...</td><td>...</td><td>...</td><td>...</td><td>...</td><td>...</td><td>...</td><td>...</td><td>...</td><td>...</td><td>...</td><td>...</td><td>...</td><td>...</td><td>...</td><td>...</td><td>...</td><td>...</td><td>...</td><td>...</td><td>...</td><td>...</td><td>...</td><td>...</td><td>...</td><td>...</td><td>...</td><td>...</td><td>...</td><td>...</td><td>...</td><td>...</td><td>...</td><td>...</td><td>...</td><td>...</td><td>...</td><td>...</td><td>...</td><td>...</td><td>...</td><td>...</td><td>...</td><td>...</td><td>...</td><td>...</td><td>...</td><td>...</td><td>...</td><td>...</td><td>...</td><td>...</td><td>...</td><td>...</td><td>...</td><td>...</td><td>...</td><td>...</td><td>...</td><td>...</td><td>...</td><td>...</td><td>...</td><td>...</td><td>...</td><td>...</td><td>...</td><td>...</td><td>...</td><td>...</td><td>...</td><td>...</td><td>...</td><td>...</td><td>...</td></tr>\n",
       "<tr><td>r1616238.fit</td><td>True</td><td>8</td><td>0</td><td>True</td><td>1616238</td><td>r1616238</td><td>1:1:1616238</td><td>/int/release</td><td>ING La Palma</td><td>LAPALMA</td><td>Roberts</td><td>N1</td><td>Sky background</td><td>SKY</td><td>sky</td><td>28.761923</td><td>-17.877574</td><td>2348</td><td>LPO2.5</td><td>INT</td><td>STOPPED</td><td>0:00:00.000</td><td>+00:00:00.00</td><td>2000.0</td><td>FK5</td><td>20:18:14.2</td><td>-0.0697222242</td><td>0.0905555552</td><td>-0.0697222242</td><td>0.0905555552</td><td>0.0</td><td>0.0</td><td>59736.8459979</td><td>2459737.3459979</td><td>12:07:35.8</td><td>12:07:35.8</td><td>202.981146</td><td>202.982868</td><td>0.107935</td><td>0.107928</td><td>CASSEGRAIN</td><td>1.502645</td><td>0.016994</td><td>0.0177</td><td>True</td><td>358.988158</td><td>358.988158</td><td>358.988158</td><td>49.842414</td><td>49.774109</td><td>False</td><td>90.663391</td><td>90.663391</td><td>1.000002</td><td>1.000002</td><td>1.000002</td><td>14.269863</td><td>0.706141</td><td>0.0</td><td>0.0</td><td>0.0</td><td>0.0</td><td>UNLOCKED</td><td>TEST</td><td>4:00:00.000</td><td>+24:00:00.00</td><td>J2000.00</td><td>2000.0</td><td>0.0</td><td>0.0</td><td>0.0</td><td>0.0</td><td>0.0</td><td>0.0</td><td>0.497581</td><td>0.500003</td><td>F0 Clear</td><td>OPEN</td><td>0.425001</td><td>0.425005</td><td>NullName</td><td>F0 Clear</td><td></td><td>OUT</td><td>F0 Clear</td><td>F0 Clear</td><td>F0 Clear</td><td>IDS</td><td>235</td><td>0.000275</td><td>0.048</td><td>1.488</td><td>D-CORO</td><td>P0 Clear</td><td>F0 Clear</td><td>F0 empty</td><td>Al-wide</td><td>218</td><td>OPEN</td><td>OPEN</td><td>R300V</td><td>300</td><td>5460.0</td><td>66.87</td><td>OPEN</td><td>5643.217</td><td>EEV10</td><td>SLOW</td><td>1</td><td>1</td><td>1 1</td><td>150.951</td><td>0.0</td><td>0.0</td><td>1</td><td>[785:1150,1:4200], enabled</td><td>[0:0,0:0], disabled</td><td>[0:0,0:0], disabled</td><td>[0:0,0:0], disabled</td><td>simple</td><td>normal</td><td>1</td><td>1</td><td>2022-06-06</td><td>20:18:14.295</td><td>20:18:14.295</td><td>20:18:29.300</td><td>30.01</td><td>30.01</td><td>30.17041198</td><td>30.17041198</td><td>30.0</td></tr>\n",
       "<tr><td>r1616239.fit</td><td>True</td><td>8</td><td>0</td><td>True</td><td>1616239</td><td>r1616239</td><td>1:2:1616239</td><td>/int/release</td><td>ING La Palma</td><td>LAPALMA</td><td>Roberts</td><td>N1</td><td>Sky background</td><td>SKY</td><td>sky</td><td>28.761923</td><td>-17.877574</td><td>2348</td><td>LPO2.5</td><td>INT</td><td>STOPPED</td><td>0:00:00.000</td><td>+00:00:00.00</td><td>2000.0</td><td>FK5</td><td>20:19:06.2</td><td>-0.0697222242</td><td>0.0905555552</td><td>-0.0697222242</td><td>0.0905555552</td><td>0.0</td><td>0.0</td><td>59736.8465997</td><td>2459737.3465997</td><td>12:08:28.0</td><td>12:08:28.0</td><td>202.981146</td><td>202.981146</td><td>0.107935</td><td>0.107935</td><td>CASSEGRAIN</td><td>1.502645</td><td>0.016994</td><td>0.0177</td><td>True</td><td>358.988158</td><td>358.988158</td><td>358.988158</td><td>49.723931</td><td>49.653092</td><td>False</td><td>90.663391</td><td>90.663391</td><td>1.000002</td><td>1.000002</td><td>1.000002</td><td>14.23553</td><td>0.706141</td><td>0.0</td><td>0.0</td><td>0.0</td><td>0.0</td><td>UNLOCKED</td><td>TEST</td><td>4:00:00.000</td><td>+24:00:00.00</td><td>J2000.00</td><td>2000.0</td><td>0.0</td><td>0.0</td><td>0.0</td><td>0.0</td><td>0.0</td><td>0.0</td><td>0.497581</td><td>0.500003</td><td>F0 Clear</td><td>OPEN</td><td>0.425001</td><td>0.425005</td><td>NullName</td><td>F0 Clear</td><td></td><td>OUT</td><td>F0 Clear</td><td>F0 Clear</td><td>F0 Clear</td><td>IDS</td><td>235</td><td>0.00028</td><td>0.049</td><td>1.515</td><td>D-CORO</td><td>P0 Clear</td><td>F0 Clear</td><td>F0 empty</td><td>Al-wide</td><td>218</td><td>OPEN</td><td>OPEN</td><td>R300V</td><td>300</td><td>5460.0</td><td>66.87</td><td>OPEN</td><td>5643.217</td><td>EEV10</td><td>SLOW</td><td>1</td><td>1</td><td>1 1</td><td>150.951</td><td>0.0</td><td>0.0</td><td>1</td><td>[785:1150,1:4200], enabled</td><td>[0:0,0:0], disabled</td><td>[0:0,0:0], disabled</td><td>[0:0,0:0], disabled</td><td>simple</td><td>normal</td><td>1</td><td>1</td><td>2022-06-06</td><td>20:19:07.042</td><td>20:19:07.042</td><td>20:19:22.047</td><td>30.01</td><td>30.01</td><td>30.16591815</td><td>30.16591815</td><td>30.0</td></tr>\n",
       "<tr><td>r1616240.fit</td><td>True</td><td>8</td><td>0</td><td>True</td><td>1616240</td><td>r1616240</td><td>2:2:1616239</td><td>/int/release</td><td>ING La Palma</td><td>LAPALMA</td><td>Roberts</td><td>N1</td><td>Sky background</td><td>SKY</td><td>sky</td><td>28.761923</td><td>-17.877574</td><td>2348</td><td>LPO2.5</td><td>INT</td><td>STOPPED</td><td>0:00:00.000</td><td>+00:00:00.00</td><td>2000.0</td><td>FK5</td><td>20:19:48.2</td><td>-0.0697222242</td><td>0.0905555552</td><td>-0.0697222242</td><td>0.0905555552</td><td>0.0</td><td>0.0</td><td>59736.8470858</td><td>2459737.3470858</td><td>12:09:10.1</td><td>12:09:10.1</td><td>202.982868</td><td>202.984602</td><td>0.107928</td><td>0.107921</td><td>CASSEGRAIN</td><td>1.502645</td><td>0.016994</td><td>0.0177</td><td>True</td><td>358.988158</td><td>358.988158</td><td>358.988158</td><td>49.627915</td><td>49.556868</td><td>False</td><td>90.663391</td><td>90.663391</td><td>1.000002</td><td>1.000002</td><td>1.000002</td><td>14.206438</td><td>0.706141</td><td>0.0</td><td>0.0</td><td>0.0</td><td>0.0</td><td>UNLOCKED</td><td>TEST</td><td>4:00:00.000</td><td>+24:00:00.00</td><td>J2000.00</td><td>2000.0</td><td>0.0</td><td>0.0</td><td>0.0</td><td>0.0</td><td>0.0</td><td>0.0</td><td>0.497581</td><td>0.500003</td><td>F0 Clear</td><td>OPEN</td><td>0.425001</td><td>0.425005</td><td>NullName</td><td>F0 Clear</td><td></td><td>OUT</td><td>F0 Clear</td><td>F0 Clear</td><td>F0 Clear</td><td>IDS</td><td>235</td><td>0.000275</td><td>0.048</td><td>1.488</td><td>D-CORO</td><td>P0 Clear</td><td>F0 Clear</td><td>F0 empty</td><td>Al-wide</td><td>217</td><td>OPEN</td><td>OPEN</td><td>R300V</td><td>300</td><td>5460.0</td><td>66.87</td><td>OPEN</td><td>5643.217</td><td>EEV10</td><td>SLOW</td><td>1</td><td>1</td><td>1 1</td><td>150.951</td><td>0.0</td><td>0.0</td><td>1</td><td>[785:1150,1:4200], enabled</td><td>[0:0,0:0], disabled</td><td>[0:0,0:0], disabled</td><td>[0:0,0:0], disabled</td><td>simple</td><td>normal</td><td>1</td><td>1</td><td>2022-06-06</td><td>20:19:49.013</td><td>20:19:49.013</td><td>20:20:04.018</td><td>30.01</td><td>30.01</td><td>30.16589999</td><td>30.16589999</td><td>30.0</td></tr>\n",
       "<tr><td>r1616264.fit</td><td>True</td><td>8</td><td>0</td><td>True</td><td>1616264</td><td>r1616264</td><td>1:1:1616264</td><td>/int/release</td><td>ING La Palma</td><td>LAPALMA</td><td>Roberts</td><td>N1</td><td>SN2022HRS</td><td>TARGET</td><td>object</td><td>28.761923</td><td>-17.877574</td><td>2348</td><td>LPO2.5</td><td>INT</td><td>GUIDING</td><td>12:43:34.338</td><td>+11:34:35.80</td><td>2000.0</td><td>FK5</td><td>0:23:36.2</td><td>0.0</td><td>0.0</td><td>0.0</td><td>0.0</td><td>0.0</td><td>0.0</td><td>59737.0163914</td><td>2459737.5163914</td><td>16:13:38.1</td><td>16:13:38.1</td><td>261.573214</td><td>262.29899</td><td>51.519035</td><td>52.609564</td><td>CASSEGRAIN</td><td>1.502645</td><td>0.015678</td><td>0.016201</td><td>True</td><td>54.98821</td><td>54.98821</td><td>54.98821</td><td>62.356936</td><td>62.545128</td><td>False</td><td>261.876474</td><td>261.876474</td><td>1.625353</td><td>1.605796</td><td>1.645369</td><td>12.118582</td><td>0.522763</td><td>0.0</td><td>0.0</td><td>145.73</td><td>96.57</td><td>AUTOGUIDE</td><td>SN2022HRS</td><td>12:43:34.340</td><td>+11:34:35.80</td><td>J2000.00</td><td>2000.0</td><td>0.0</td><td>0.0</td><td>0.0</td><td>0.0</td><td>0.0</td><td>0.0</td><td>0.497581</td><td>0.500003</td><td>F0 Clear</td><td>OPEN</td><td>0.410705</td><td>0.544187</td><td>NullName</td><td>F0 Clear</td><td></td><td>OUT</td><td>F0 Clear</td><td>F0 Clear</td><td>F0 Clear</td><td>IDS</td><td>235</td><td>0.000275</td><td>0.048</td><td>1.488</td><td>D-CORO</td><td>P0 Clear</td><td>F0 Clear</td><td>F0 empty</td><td>Al-wide</td><td>218</td><td>OPEN</td><td>OPEN</td><td>R300V</td><td>300</td><td>5460.0</td><td>66.87</td><td>OPEN</td><td>5643.217</td><td>EEV10</td><td>SLOW</td><td>1</td><td>1</td><td>1 1</td><td>150.951</td><td>0.0</td><td>0.0</td><td>1</td><td>[785:1150,1:4200], enabled</td><td>[0:0,0:0], disabled</td><td>[0:0,0:0], disabled</td><td>[0:0,0:0], disabled</td><td>simple</td><td>normal</td><td>1</td><td>1</td><td>2022-06-07</td><td>00:23:37.184</td><td>00:23:37.184</td><td>00:26:07.189</td><td>300.01</td><td>300.01</td><td>300.22091338</td><td>300.22091338</td><td>300.0</td></tr>\n",
       "<tr><td>r1616265.fit</td><td>True</td><td>8</td><td>0</td><td>True</td><td>1616265</td><td>r1616265</td><td>--</td><td>--</td><td>--</td><td>--</td><td>--</td><td>--</td><td>--</td><td>--</td><td>--</td><td>--</td><td>--</td><td>--</td><td>--</td><td>--</td><td>--</td><td>--</td><td>--</td><td>--</td><td>--</td><td>--</td><td>--</td><td>--</td><td>--</td><td>--</td><td>--</td><td>--</td><td>--</td><td>--</td><td>--</td><td>--</td><td>--</td><td>--</td><td>--</td><td>--</td><td>--</td><td>--</td><td>--</td><td>--</td><td>--</td><td>--</td><td>--</td><td>--</td><td>--</td><td>--</td><td>--</td><td>--</td><td>--</td><td>--</td><td>--</td><td>--</td><td>--</td><td>--</td><td>--</td><td>--</td><td>--</td><td>--</td><td>--</td><td>--</td><td>--</td><td>--</td><td>--</td><td>--</td><td>--</td><td>--</td><td>--</td><td>--</td><td>--</td><td>--</td><td>--</td><td>--</td><td>--</td><td>--</td><td>--</td><td>--</td><td>--</td><td>--</td><td>--</td><td>--</td><td>--</td><td>--</td><td>--</td><td>AG0</td><td>--</td><td>--</td><td>--</td><td>--</td><td>--</td><td>--</td><td>--</td><td>--</td><td>--</td><td>--</td><td>--</td><td>--</td><td>--</td><td>--</td><td>--</td><td>--</td><td>--</td><td>--</td><td>AG0</td><td>FAST</td><td>3</td><td>3</td><td>3 3</td><td>239.255</td><td>287.705</td><td>0.0</td><td>0</td><td>[0:0,0:0], disabled</td><td>[0:0,0:0], disabled</td><td>[0:0,0:0], disabled</td><td>[0:0,0:0], disabled</td><td>simple</td><td>normal</td><td>1</td><td>1</td><td>2022-06-07</td><td>00:25:26.841</td><td>00:25:26.841</td><td>00:26:56.841</td><td>180.00036307</td><td>180.00036307</td><td>180.00036307</td><td>180.00036307</td><td>180.0</td></tr>\n",
       "<tr><td>r1616266.fit</td><td>True</td><td>8</td><td>0</td><td>True</td><td>1616266</td><td>r1616266</td><td>1:1:1616266</td><td>/int/release</td><td>ING La Palma</td><td>LAPALMA</td><td>Roberts</td><td>N1</td><td>Arc CuAr+CuNe</td><td>ARC</td><td>arc</td><td>28.761923</td><td>-17.877574</td><td>2348</td><td>LPO2.5</td><td>INT</td><td>STOPPED</td><td>12:43:34.343</td><td>+11:34:35.95</td><td>2000.0</td><td>FK5</td><td>0:29:00.2</td><td>0.0</td><td>0.0</td><td>0.0</td><td>0.0</td><td>0.0</td><td>0.0</td><td>59737.0201414</td><td>2459737.5201414</td><td>16:19:03.0</td><td>16:19:03.0</td><td>262.353877</td><td>262.376471</td><td>52.692868</td><td>52.731004</td><td>CASSEGRAIN</td><td>1.502645</td><td>0.015677</td><td>0.0162</td><td>True</td><td>54.98821</td><td>54.98821</td><td>54.98821</td><td>62.558686</td><td>66.820007</td><td>False</td><td>261.876474</td><td>262.228038</td><td>1.649028</td><td>1.648501</td><td>1.648502</td><td>12.120682</td><td>0.522763</td><td>0.0</td><td>0.0</td><td>145.73</td><td>96.57</td><td>AUTOGUIDE</td><td>SP1239+178</td><td>12:41:51.800</td><td>+17:31:21.00</td><td>J2000.00</td><td>2000.0</td><td>0.0</td><td>0.0</td><td>0.0</td><td>0.0</td><td>0.0</td><td>0.0</td><td>0.497581</td><td>0.500003</td><td>F0 Clear</td><td>SHUT</td><td>0.410705</td><td>0.544187</td><td>NullName</td><td>F0 Clear</td><td>CuAr CuAr CuNe CuN</td><td>IN</td><td>F0 Clear</td><td>F0 Clear</td><td>F0 Clear</td><td>IDS</td><td>235</td><td>0.00028</td><td>0.049</td><td>1.515</td><td>D-CORO</td><td>P0 Clear</td><td>F0 Clear</td><td>F0 empty</td><td>Al-wide</td><td>217</td><td>OPEN</td><td>OPEN</td><td>R300V</td><td>300</td><td>5460.0</td><td>66.87</td><td>OPEN</td><td>5643.217</td><td>EEV10</td><td>SLOW</td><td>1</td><td>1</td><td>1 1</td><td>150.839</td><td>0.0</td><td>0.0</td><td>1</td><td>[785:1150,1:4200], enabled</td><td>[0:0,0:0], disabled</td><td>[0:0,0:0], disabled</td><td>[0:0,0:0], disabled</td><td>simple</td><td>normal</td><td>1</td><td>1</td><td>2022-06-07</td><td>00:29:01.142</td><td>00:29:01.142</td><td>00:29:06.147</td><td>10.01</td><td>10.01</td><td>10.20803719</td><td>10.20803719</td><td>10.0</td></tr>\n",
       "<tr><td>r1616267.fit</td><td>True</td><td>8</td><td>0</td><td>True</td><td>1616267</td><td>r1616267</td><td>1:1:1616267</td><td>/int/release</td><td>ING La Palma</td><td>LAPALMA</td><td>Roberts</td><td>N1</td><td>SP1239+178</td><td>TARGET</td><td>object</td><td>28.761923</td><td>-17.877574</td><td>2348</td><td>LPO2.5</td><td>INT</td><td>TRACKING</td><td>12:41:52.361</td><td>+17:31:21.12</td><td>2000.0</td><td>FK5</td><td>0:30:31.2</td><td>0.0</td><td>0.0</td><td>0.0</td><td>0.0</td><td>0.0</td><td>0.0</td><td>59737.0211946</td><td>2459737.5211946</td><td>16:20:34.3</td><td>16:20:34.3</td><td>269.621554</td><td>269.662234</td><td>50.850951</td><td>50.924139</td><td>CASSEGRAIN</td><td>1.502645</td><td>0.015678</td><td>0.016201</td><td>True</td><td>65.988206</td><td>65.988206</td><td>65.988206</td><td>66.82125</td><td>66.821394</td><td>False</td><td>271.720334</td><td>271.720334</td><td>1.583819</td><td>1.582591</td><td>1.585071</td><td>12.12745</td><td>0.522763</td><td>0.0</td><td>0.0</td><td>0.0</td><td>0.0</td><td>UNLOCKED</td><td>SP1239+178</td><td>12:41:51.800</td><td>+17:31:21.00</td><td>J2000.00</td><td>2000.0</td><td>0.0</td><td>0.0</td><td>0.0</td><td>0.0</td><td>0.0</td><td>0.0</td><td>0.497581</td><td>0.500003</td><td>F0 Clear</td><td>OPEN</td><td>0.410705</td><td>0.544187</td><td>NullName</td><td>F0 Clear</td><td></td><td>OUT</td><td>F0 Clear</td><td>F0 Clear</td><td>F0 Clear</td><td>IDS</td><td>235</td><td>0.00028</td><td>0.049</td><td>1.515</td><td>D-CORO</td><td>P0 Clear</td><td>F0 Clear</td><td>F0 empty</td><td>Al-wide</td><td>218</td><td>OPEN</td><td>OPEN</td><td>R300V</td><td>300</td><td>5460.0</td><td>66.87</td><td>OPEN</td><td>5643.217</td><td>EEV10</td><td>SLOW</td><td>1</td><td>1</td><td>1 1</td><td>150.727</td><td>0.0</td><td>0.0</td><td>1</td><td>[785:1150,1:4200], enabled</td><td>[0:0,0:0], disabled</td><td>[0:0,0:0], disabled</td><td>[0:0,0:0], disabled</td><td>simple</td><td>normal</td><td>1</td><td>1</td><td>2022-06-07</td><td>00:30:31.767</td><td>00:30:31.767</td><td>00:30:41.772</td><td>20.01</td><td>20.01</td><td>20.21646825</td><td>20.21646825</td><td>20.0</td></tr>\n",
       "</table></div>"
      ],
      "text/plain": [
       "<Table masked=True length=43>\n",
       "    file     simple bitpix naxis ...   elapsed      darktime   reqtime\n",
       "   str12      bool  int64  int64 ...   float64      float64    float64\n",
       "------------ ------ ------ ----- ... ------------ ------------ -------\n",
       "r1616202.fit   True      8     0 ...   0.62546741   0.62546741     0.0\n",
       "r1616203.fit   True      8     0 ...   0.79120923   0.79120923     0.0\n",
       "r1616204.fit   True      8     0 ...   0.76992977   0.76992977     0.0\n",
       "r1616205.fit   True      8     0 ...   0.73386602   0.73386602     0.0\n",
       "r1616206.fit   True      8     0 ...   0.50501286   0.50501286     0.0\n",
       "r1616207.fit   True      8     0 ...   0.68169891   0.68169891     0.0\n",
       "         ...    ...    ...   ... ...          ...          ...     ...\n",
       "r1616238.fit   True      8     0 ...  30.17041198  30.17041198    30.0\n",
       "r1616239.fit   True      8     0 ...  30.16591815  30.16591815    30.0\n",
       "r1616240.fit   True      8     0 ...  30.16589999  30.16589999    30.0\n",
       "r1616264.fit   True      8     0 ... 300.22091338 300.22091338   300.0\n",
       "r1616265.fit   True      8     0 ... 180.00036307 180.00036307   180.0\n",
       "r1616266.fit   True      8     0 ...  10.20803719  10.20803719    10.0\n",
       "r1616267.fit   True      8     0 ...  20.21646825  20.21646825    20.0"
      ]
     },
     "execution_count": 18,
     "metadata": {},
     "output_type": "execute_result"
    }
   ],
   "source": [
    "### Load in all the files from the observing night\n",
    "\n",
    "### For non-standard keyword in the header, run the edit_header function below. \n",
    "### If no error is flagged by ic1 then this function is not required\n",
    "\n",
    "# filenames = glob.glob(\"*.fit\")\n",
    "# for file in filenames:\n",
    "#     edit_header(file)\n",
    "\n",
    "\n",
    "ic1 = ImageFileCollection(workdir)\n",
    "ic1.summary"
   ]
  },
  {
   "cell_type": "code",
   "execution_count": 19,
   "metadata": {},
   "outputs": [
    {
     "name": "stdout",
     "output_type": "stream",
     "text": [
      "['r1616264.fit']\n"
     ]
    }
   ],
   "source": [
    "print(ic1.files_filtered(object=\"SN2022HRS\"))"
   ]
  },
  {
   "cell_type": "markdown",
   "metadata": {},
   "source": [
    "## Create/read biases"
   ]
  },
  {
   "cell_type": "code",
   "execution_count": 60,
   "metadata": {},
   "outputs": [
    {
     "name": "stderr",
     "output_type": "stream",
     "text": [
      "INFO:astropy:first HDU with data is extension 1.\n",
      "WARNING: FITSFixedWarning: PROJP1 = 1.00000000 / Projection coefficient for primary WCS \n",
      "the PROJPn keyword is deprecated, use PVi_ma. [astropy.wcs.wcs]\n",
      "WARNING:astropy:FITSFixedWarning: PROJP1 = 1.00000000 / Projection coefficient for primary WCS \n",
      "the PROJPn keyword is deprecated, use PVi_ma.\n",
      "WARNING: FITSFixedWarning: PROJP3 = 0.00000000 / Projection coefficient for primary WCS \n",
      "the PROJPn keyword is deprecated, use PVi_ma. [astropy.wcs.wcs]\n",
      "WARNING:astropy:FITSFixedWarning: PROJP3 = 0.00000000 / Projection coefficient for primary WCS \n",
      "the PROJPn keyword is deprecated, use PVi_ma.\n",
      "WARNING: FITSFixedWarning: RADECSYS= 'FK5 ' / mean place new (after the 1976 IAU) system \n",
      "the RADECSYS keyword is deprecated, use RADESYSa. [astropy.wcs.wcs]\n",
      "WARNING:astropy:FITSFixedWarning: RADECSYS= 'FK5 ' / mean place new (after the 1976 IAU) system \n",
      "the RADECSYS keyword is deprecated, use RADESYSa.\n",
      "WARNING: FITSFixedWarning: 'datfix' made the change 'Invalid parameter values: MJD-OBS and DATE-OBS are inconsistent.\n",
      "Changed DATE-OBS from '2022-06-06        ' to '2022-06-06T00:00:00.0''. [astropy.wcs.wcs]\n",
      "WARNING:astropy:FITSFixedWarning: 'datfix' made the change 'Invalid parameter values: MJD-OBS and DATE-OBS are inconsistent.\n",
      "Changed DATE-OBS from '2022-06-06        ' to '2022-06-06T00:00:00.0''.\n",
      "INFO:astropy:first HDU with data is extension 1.\n",
      "INFO:astropy:first HDU with data is extension 1.\n",
      "INFO:astropy:first HDU with data is extension 1.\n"
     ]
    },
    {
     "name": "stdout",
     "output_type": "stream",
     "text": [
      "INFO: first HDU with data is extension 1. [astropy.nddata.ccddata]\n",
      "INFO: first HDU with data is extension 1. [astropy.nddata.ccddata]\n",
      "INFO: first HDU with data is extension 1. [astropy.nddata.ccddata]\n",
      "INFO: first HDU with data is extension 1. [astropy.nddata.ccddata]\n"
     ]
    },
    {
     "name": "stderr",
     "output_type": "stream",
     "text": [
      "INFO:astropy:first HDU with data is extension 1.\n",
      "INFO:astropy:first HDU with data is extension 1.\n",
      "INFO:astropy:first HDU with data is extension 1.\n",
      "INFO:astropy:first HDU with data is extension 1.\n"
     ]
    },
    {
     "name": "stdout",
     "output_type": "stream",
     "text": [
      "INFO: first HDU with data is extension 1. [astropy.nddata.ccddata]\n",
      "INFO: first HDU with data is extension 1. [astropy.nddata.ccddata]\n",
      "INFO: first HDU with data is extension 1. [astropy.nddata.ccddata]\n",
      "INFO: first HDU with data is extension 1. [astropy.nddata.ccddata]\n"
     ]
    },
    {
     "name": "stderr",
     "output_type": "stream",
     "text": [
      "INFO:astropy:first HDU with data is extension 1.\n",
      "INFO:astropy:first HDU with data is extension 1.\n",
      "INFO:astropy:first HDU with data is extension 1.\n",
      "INFO:astropy:first HDU with data is extension 1.\n"
     ]
    },
    {
     "name": "stdout",
     "output_type": "stream",
     "text": [
      "INFO: first HDU with data is extension 1. [astropy.nddata.ccddata]\n",
      "INFO: first HDU with data is extension 1. [astropy.nddata.ccddata]\n",
      "INFO: first HDU with data is extension 1. [astropy.nddata.ccddata]\n",
      "INFO: first HDU with data is extension 1. [astropy.nddata.ccddata]\n"
     ]
    },
    {
     "name": "stderr",
     "output_type": "stream",
     "text": [
      "INFO:astropy:first HDU with data is extension 1.\n",
      "INFO:astropy:first HDU with data is extension 1.\n",
      "INFO:astropy:first HDU with data is extension 1.\n"
     ]
    },
    {
     "name": "stdout",
     "output_type": "stream",
     "text": [
      "INFO: first HDU with data is extension 1. [astropy.nddata.ccddata]\n",
      "INFO: first HDU with data is extension 1. [astropy.nddata.ccddata]\n",
      "INFO: first HDU with data is extension 1. [astropy.nddata.ccddata]\n"
     ]
    },
    {
     "name": "stderr",
     "output_type": "stream",
     "text": [
      "INFO:astropy:first HDU with data is extension 1.\n",
      "INFO:astropy:first HDU with data is extension 1.\n",
      "INFO:astropy:first HDU with data is extension 1.\n"
     ]
    },
    {
     "name": "stdout",
     "output_type": "stream",
     "text": [
      "INFO: first HDU with data is extension 1. [astropy.nddata.ccddata]\n",
      "INFO: first HDU with data is extension 1. [astropy.nddata.ccddata]\n",
      "INFO: first HDU with data is extension 1. [astropy.nddata.ccddata]\n"
     ]
    },
    {
     "name": "stderr",
     "output_type": "stream",
     "text": [
      "INFO:astropy:first HDU with data is extension 1.\n",
      "INFO:astropy:first HDU with data is extension 1.\n",
      "INFO:astropy:first HDU with data is extension 1.\n"
     ]
    },
    {
     "name": "stdout",
     "output_type": "stream",
     "text": [
      "INFO: first HDU with data is extension 1. [astropy.nddata.ccddata]\n",
      "INFO: first HDU with data is extension 1. [astropy.nddata.ccddata]\n",
      "INFO: first HDU with data is extension 1. [astropy.nddata.ccddata]\n",
      "Master Bias created\n"
     ]
    }
   ],
   "source": [
    "### Run this the first time to create master bias frames\n",
    "\n",
    "try:\n",
    "    os.mkdir(\"./processed/BIAS/\")\n",
    "except OSError:\n",
    "    pass\n",
    "\n",
    "### Create red master bias\n",
    "red_bias_list = []\n",
    "\n",
    "for filename in ic1.files_filtered(obstype='BIAS', object='Bias'):\n",
    "    ccd = CCDData.read(ic1.location + filename, unit = u.electron)\n",
    "\n",
    "    ccd = ccdproc.subtract_overscan(ccd, median=True,  overscan_axis=0, fits_section=ccd.header['BIASSEC'])\n",
    "    \n",
    "    #this has to be fixed as the bias section does not include the whole section that will be trimmed\n",
    "    ccd = ccdproc.trim_image(ccd[:,:4096])\n",
    "    \n",
    "    red_bias_list.append(ccd)\n",
    "\n",
    "master_bias = ccdproc.combine(red_bias_list, method='median')\n",
    "master_bias.write('./processed/BIAS/master_bias.fits', overwrite=True)\n",
    "\n",
    "### uncomment the following line once master bias created to simply load in the relevant bias\n",
    "# master_bias = CCDData.read('./processed/BIAS/master_bias.fits', unit=u.adu)\n",
    "\n",
    "print(\"Master Bias created\")"
   ]
  },
  {
   "cell_type": "markdown",
   "metadata": {},
   "source": [
    "## Create/read flats\n",
    "\n",
    "### Lamp flats\n",
    "These are taken as part of the afternoon calibrations with complamps W"
   ]
  },
  {
   "cell_type": "code",
   "execution_count": 61,
   "metadata": {},
   "outputs": [
    {
     "name": "stderr",
     "output_type": "stream",
     "text": [
      "INFO:astropy:first HDU with data is extension 1.\n",
      "INFO:astropy:first HDU with data is extension 1.\n",
      "INFO:astropy:first HDU with data is extension 1.\n"
     ]
    },
    {
     "name": "stdout",
     "output_type": "stream",
     "text": [
      "INFO: first HDU with data is extension 1. [astropy.nddata.ccddata]\n",
      "INFO: first HDU with data is extension 1. [astropy.nddata.ccddata]\n",
      "INFO: first HDU with data is extension 1. [astropy.nddata.ccddata]\n"
     ]
    },
    {
     "name": "stderr",
     "output_type": "stream",
     "text": [
      "INFO:astropy:first HDU with data is extension 1.\n",
      "INFO:astropy:first HDU with data is extension 1.\n",
      "INFO:astropy:first HDU with data is extension 1.\n"
     ]
    },
    {
     "name": "stdout",
     "output_type": "stream",
     "text": [
      "INFO: first HDU with data is extension 1. [astropy.nddata.ccddata]\n",
      "INFO: first HDU with data is extension 1. [astropy.nddata.ccddata]\n",
      "INFO: first HDU with data is extension 1. [astropy.nddata.ccddata]\n"
     ]
    },
    {
     "name": "stderr",
     "output_type": "stream",
     "text": [
      "INFO:astropy:first HDU with data is extension 1.\n",
      "INFO:astropy:first HDU with data is extension 1.\n",
      "INFO:astropy:first HDU with data is extension 1.\n"
     ]
    },
    {
     "name": "stdout",
     "output_type": "stream",
     "text": [
      "INFO: first HDU with data is extension 1. [astropy.nddata.ccddata]\n",
      "INFO: first HDU with data is extension 1. [astropy.nddata.ccddata]\n",
      "INFO: first HDU with data is extension 1. [astropy.nddata.ccddata]\n"
     ]
    },
    {
     "name": "stderr",
     "output_type": "stream",
     "text": [
      "INFO:astropy:first HDU with data is extension 1.\n",
      "INFO:astropy:first HDU with data is extension 1.\n"
     ]
    },
    {
     "name": "stdout",
     "output_type": "stream",
     "text": [
      "INFO: first HDU with data is extension 1. [astropy.nddata.ccddata]\n",
      "INFO: first HDU with data is extension 1. [astropy.nddata.ccddata]\n",
      "Master flat created\n"
     ]
    }
   ],
   "source": [
    "### Lamp flats\n",
    "\n",
    "try:\n",
    "    os.mkdir(\"processed/FLAT/\")\n",
    "except OSError:\n",
    "    pass\n",
    "\n",
    "red_flat_list = []\n",
    "for filename in ic1.files_filtered(obstype='FLAT'):\n",
    "    ccd = CCDData.read(ic1.location + filename, unit = u.electron)\n",
    "\n",
    "    ccd = ccdproc.subtract_overscan(ccd, median=True,  overscan_axis=0, fits_section=ccd.header['BIASSEC'])\n",
    "    \n",
    "    #this has to be fixed as the bias section does not include the whole section that will be trimmed\n",
    "    ccd = ccdproc.trim_image(ccd[:,:4096])\n",
    "\n",
    "    ccd = ccdproc.subtract_bias(ccd, master_bias)    \n",
    "    red_flat_list.append(ccd)\n",
    "\n",
    "master_flat = ccdproc.combine(red_flat_list, method='median')\n",
    "# convolved_flat = convolve(master_flat.data, kernel, boundary='extend')\n",
    "\n",
    "master_flat.write('./processed/FLAT/master_flat.fits', overwrite=True)\n",
    "\n",
    "### Uncomment the following line once master flats have been created\n",
    "# master_flat = CCDData.read('./processed/FLAT/master_flat.fits')\n",
    "\n",
    "print(\"Master flat created\")"
   ]
  },
  {
   "cell_type": "markdown",
   "metadata": {},
   "source": [
    "### Sky flats\n",
    "These are taken around sunset (or sunrise). They have absorption lines but are superior to lamp flats as they give a more accurate flat-fielding for the science exposures. Give these priority. If for some reason sky flats were not taken, lamp flats should work too."
   ]
  },
  {
   "cell_type": "code",
   "execution_count": 64,
   "metadata": {},
   "outputs": [
    {
     "name": "stderr",
     "output_type": "stream",
     "text": [
      "INFO:astropy:first HDU with data is extension 1.\n",
      "INFO:astropy:first HDU with data is extension 1.\n",
      "INFO:astropy:first HDU with data is extension 1.\n"
     ]
    },
    {
     "name": "stdout",
     "output_type": "stream",
     "text": [
      "INFO: first HDU with data is extension 1. [astropy.nddata.ccddata]\n",
      "INFO: first HDU with data is extension 1. [astropy.nddata.ccddata]\n",
      "INFO: first HDU with data is extension 1. [astropy.nddata.ccddata]\n",
      "Master sky flat created\n"
     ]
    }
   ],
   "source": [
    "### Sky flats\n",
    "\n",
    "try:\n",
    "    os.mkdir(\"processed/FLAT/\")\n",
    "except OSError:\n",
    "    pass\n",
    "\n",
    "skyflat_list = []\n",
    "for filename in ic1.files_filtered(obstype='SKY'):\n",
    "    ccd = CCDData.read(ic1.location + filename, unit = u.electron)\n",
    "#     ccd = ccdproc.create_deviation(ccd, gain=ccd.header['GAIN']*u.electron/u.adu, \n",
    "#                                    readnoise=ccd.header['READNOIS']*u.electron)\n",
    "    \n",
    "    ccd = ccdproc.subtract_overscan(ccd, median=True,  overscan_axis=0, fits_section=ccd.header['BIASSEC'])\n",
    "    \n",
    "    #this has to be fixed as the bias section does not include the whole section that will be trimmed\n",
    "    ccd = ccdproc.trim_image(ccd[:,:4096])\n",
    "    \n",
    "    ccd = ccdproc.subtract_bias(ccd, master_bias)    \n",
    "    skyflat_list.append(ccd)\n",
    "\n",
    "master_skyflat = ccdproc.combine(skyflat_list, method='median')\n",
    "# convolved_skyflat = convolve(master_skyflat.data, kernel, boundary='extend')\n",
    "\n",
    "master_skyflat.write('./processed/FLAT/master_skyflat.fits', overwrite=True)\n",
    "\n",
    "### Uncomment the following line once master flats have been created\n",
    "# master_skyflat = CCDData.read('./processed/FLAT/master_skyflat.fits')\n",
    "\n",
    "print(\"Master sky flat created\")"
   ]
  },
  {
   "cell_type": "markdown",
   "metadata": {},
   "source": [
    "# Reduce science data"
   ]
  },
  {
   "cell_type": "code",
   "execution_count": 65,
   "metadata": {
    "scrolled": true
   },
   "outputs": [
    {
     "name": "stdout",
     "output_type": "stream",
     "text": [
      "Reducing: SN2022HRS\n",
      "r1616264.fit\n"
     ]
    },
    {
     "name": "stderr",
     "output_type": "stream",
     "text": [
      "/usr/local/lib/python3.8/site-packages/astropy/units/quantity.py:486: RuntimeWarning: divide by zero encountered in true_divide\n",
      "  result = super().__array_ufunc__(function, method, *arrays, **kwargs)\n",
      "/usr/local/lib/python3.8/site-packages/astropy/units/quantity.py:486: RuntimeWarning: invalid value encountered in true_divide\n",
      "  result = super().__array_ufunc__(function, method, *arrays, **kwargs)\n",
      "/usr/local/lib/python3.8/site-packages/astropy/nddata/nduncertainty.py:650: RuntimeWarning: divide by zero encountered in true_divide\n",
      "  return from_variance((left + right + correlation_sign * corr) /\n",
      "/usr/local/lib/python3.8/site-packages/astropy/nddata/nduncertainty.py:650: RuntimeWarning: invalid value encountered in true_divide\n",
      "  return from_variance((left + right + correlation_sign * corr) /\n"
     ]
    },
    {
     "name": "stdout",
     "output_type": "stream",
     "text": [
      "Reduced object\n"
     ]
    },
    {
     "name": "stderr",
     "output_type": "stream",
     "text": [
      "/usr/local/lib/python3.8/site-packages/ccdproc/combiner.py:556: RuntimeWarning: Mean of empty slice\n",
      "  mean = scale_func(data, axis=0)\n",
      "/usr/local/lib/python3.8/site-packages/numpy/lib/nanfunctions.py:1879: RuntimeWarning: Degrees of freedom <= 0 for slice.\n",
      "  var = nanvar(a, axis=axis, dtype=dtype, out=out, ddof=ddof,\n"
     ]
    }
   ],
   "source": [
    "#######################\n",
    "objects = [\"SN2022HRS\"] # Enter object name(s) (see from observing log)\n",
    "files = [\"r1616264.fit\"] # Enter object name(s) (see from observing log)\n",
    "#######################\n",
    "\n",
    "try:\n",
    "    os.mkdir(\"./processed/SCI/\")\n",
    "except OSError:\n",
    "    pass\n",
    "\n",
    "### Ignore masked array warnings\n",
    "warnings.filterwarnings(\"ignore\", category=UserWarning)\n",
    "\n",
    "### Refresh the file list to include new exposures\n",
    "# ic1 = ImageFileCollection(workdir)\n",
    "    \n",
    "### Reduce science frame\n",
    "for objname in objects:\n",
    "    print(\"Reducing:\", objname)\n",
    "    target_list = []\n",
    "    \n",
    "    # for ifx, filename in enumerate(ic1.files_filtered(obstype='TARGET', file=objname)):\n",
    "    for filename in files:\n",
    "        print('{0}'.format(filename))\n",
    "        hdu = fits.open(ic1.location + filename)\n",
    "        ccd = CCDData(hdu[1].data, header=hdu[0].header+hdu[1].header, unit = u.adu)\n",
    "        #this has to be fixed as the bias section does not include the whole section that will be trimmed\n",
    "        \n",
    "        ### gain correction\n",
    "        # ccd = ccdproc.create_deviation(ccd, gain=ccd.header['GAIN']*u.electron/u.adu, \n",
    "                                       # readnoise=ccd.header['READNOIS']*u.electron)\n",
    "        # ccd = ccdproc.gain_correct(ccd, ccd.header['GAIN']*u.electron/u.adu)\n",
    "        ### Remove cosmic rays\n",
    "        ccd = ccdproc.cosmicray_lacosmic(ccd, sigclip=4., niter=10, sigfrac=0.3, psffwhm=2.5)    \n",
    "        \n",
    "        ### Subtract overscan\n",
    "        ccd = ccdproc.subtract_overscan(ccd, median=True,  overscan_axis=0, fits_section=ccd.header['BIASSEC'])\n",
    "        \n",
    "        ### Trim image\n",
    "        ccd = ccdproc.trim_image(ccd[:,:4096])\n",
    "        \n",
    "        ### Subtract bias\n",
    "        ccd = ccdproc.subtract_bias(ccd, master_bias)\n",
    "        \n",
    "        ### Flat correction\n",
    "        ccd = ccdproc.flat_correct(ccd, master_skyflat)\n",
    "        \n",
    "        # Do sky subtraction\n",
    "        # ccd.mask[:,0:6] = True\n",
    "#         sky = fit_background(np.ma.array(ccd.data))       \n",
    "        fitted_sky = np.ma.zeros(np.shape(ccd.data))\n",
    "        for row in range(len(fitted_sky)):\n",
    "            fitted_sky[row,:] = fit_chebyshev(np.ma.array(ccd.data[row,:]))\n",
    "        ccd.data -= fitted_sky\n",
    "        \n",
    "        # Rotate Frame\n",
    "        ccd.data = ccd.data.T\n",
    "        ccd.mask = ccd.mask.T\n",
    "        #ccd.write('obj_'+filename, overwrite=True)\n",
    "        target_list.append(ccd)\n",
    "    \n",
    "    combiner = ccdproc.Combiner(target_list)\n",
    "    red_target = combiner.average_combine()\n",
    "\n",
    "    # red_target = ccdproc.combine(target_list, method='median')\n",
    "\n",
    "    red_target.write('./processed/SCI/{0}_skysub.fits'.format(target_list[0].header['object']), overwrite=True)\n",
    "\n",
    "    print(\"Reduced object\")"
   ]
  },
  {
   "cell_type": "markdown",
   "metadata": {},
   "source": [
    "# Wavelength calibration\n",
    "\n",
    "## Reduce arc frames \n",
    "Start by reducing the arc frames. This command can either be run after relevant arcs to the science object have been taken, or all at once towards the end of the night to reduce all arcs."
   ]
  },
  {
   "cell_type": "code",
   "execution_count": null,
   "metadata": {},
   "outputs": [],
   "source": [
    "### Change observing night if needed. If working on data from the same night as before, skip this cell\n",
    "\n",
    "obs_night = \"20190406\"\n",
    "# workdir = \"/Users/aayushsaxena/Desktop/phd/Reinier_INT/Data/%s/\" %obs_night\n",
    "# os.chdir(workdir)"
   ]
  },
  {
   "cell_type": "code",
   "execution_count": 67,
   "metadata": {},
   "outputs": [
    {
     "name": "stderr",
     "output_type": "stream",
     "text": [
      "/usr/local/lib/python3.8/site-packages/astropy/units/quantity.py:486: RuntimeWarning: divide by zero encountered in true_divide\n",
      "  result = super().__array_ufunc__(function, method, *arrays, **kwargs)\n",
      "/usr/local/lib/python3.8/site-packages/astropy/units/quantity.py:486: RuntimeWarning: invalid value encountered in true_divide\n",
      "  result = super().__array_ufunc__(function, method, *arrays, **kwargs)\n",
      "/usr/local/lib/python3.8/site-packages/astropy/nddata/nduncertainty.py:650: RuntimeWarning: divide by zero encountered in true_divide\n",
      "  return from_variance((left + right + correlation_sign * corr) /\n",
      "/usr/local/lib/python3.8/site-packages/astropy/nddata/nduncertainty.py:650: RuntimeWarning: invalid value encountered in true_divide\n",
      "  return from_variance((left + right + correlation_sign * corr) /\n",
      "/usr/local/lib/python3.8/site-packages/ccdproc/core.py:1602: RuntimeWarning: invalid value encountered in subtract\n",
      "  crmask, cleanarr = detect_cosmics(\n",
      "/usr/local/lib/python3.8/site-packages/ccdproc/core.py:1602: RuntimeWarning: invalid value encountered in true_divide\n",
      "  crmask, cleanarr = detect_cosmics(\n"
     ]
    },
    {
     "name": "stdout",
     "output_type": "stream",
     "text": [
      "All arcs of the night 2022_06_07 reduced!\n"
     ]
    }
   ],
   "source": [
    "try:\n",
    "    os.mkdir(\"./processed/ARCS/\")\n",
    "except OSError:\n",
    "    pass\n",
    "\n",
    "\n",
    "ic1 = ImageFileCollection(workdir)\n",
    "\n",
    "for filename in ic1.files_filtered(obstype='ARC', object=\"Arc\"):\n",
    "    hdu = fits.open(ic1.location + filename)\n",
    "    ccd = CCDData(hdu[1].data, header=hdu[0].header+hdu[1].header, unit = u.electron)\n",
    "    #this has to be fixed as the bias section does not include the whole section that will be trimmed\n",
    "    ccd = ccdproc.subtract_overscan(ccd, median=True,  overscan_axis=0, fits_section=ccd.header['BIASSEC'])\n",
    "    ccd = ccdproc.trim_image(ccd[:,:4096])\n",
    "    ccd = ccdproc.subtract_bias(ccd, master_bias)\n",
    "    ccd = ccdproc.flat_correct(ccd, master_skyflat)\n",
    "    ccd = ccdproc.cosmicray_lacosmic(ccd, sigclip=4.5)\n",
    "\n",
    "    ccd.data = ccd.data.T\n",
    "    ccd.mask = ccd.mask.T\n",
    "    ccd.write('./processed/ARCS/arc_'+filename, overwrite=True)\n",
    "    \n",
    "print(\"All arcs of the night %s reduced!\" %obs_night)"
   ]
  },
  {
   "cell_type": "markdown",
   "metadata": {},
   "source": [
    "### Begin wavelength calibration of reduced science frames from the night selected above"
   ]
  },
  {
   "cell_type": "code",
   "execution_count": null,
   "metadata": {},
   "outputs": [],
   "source": [
    "### Select target and the relevant arc - check the log\n",
    "\n",
    "target = \"SP1134+300\"\n",
    "red_arc = fits.getdata('./processed/ARCS/arc_r1458088.fit')"
   ]
  },
  {
   "cell_type": "code",
   "execution_count": null,
   "metadata": {},
   "outputs": [],
   "source": [
    "### create 1D arc spectrum\n",
    "# mean_red_arc = np.median(red_arc[:,:], axis=0)\n",
    "mean_red_arc = np.median(red_arc[185:195,:], axis=0)\n",
    "\n",
    "## normalise the arc lines\n",
    "maxval = np.max(mean_red_arc)\n",
    "red_arc_normed = mean_red_arc/maxval\n",
    "\n",
    "%matplotlib notebook\n",
    "\n",
    "fig = plt.figure(figsize=(9,5))\n",
    "plt.plot(red_arc_normed)\n",
    "\n",
    "plt.grid(alpha=0.4)\n",
    "plt.show()"
   ]
  },
  {
   "cell_type": "code",
   "execution_count": null,
   "metadata": {},
   "outputs": [],
   "source": [
    "# Lines for the red arc\n",
    "pixels_red = [1042.33, 1228.61, 1352.1, 1394.7, 1461.7, 1571.4, 1596.94,\n",
    "              1732.9, 1798.7, 1935.0, 2022.74, \n",
    "              2380.47, 2583.5, 2686.1]\n",
    "\n",
    "wavelengths_red = [5852.49, 6143.06, 6334.43, 6402.25, 6506.53, 6678.3, 6717.04,\n",
    "                   6929.47, 7032.41, 7245.17, 7383.98, \n",
    "                   7948.17, 8264.52, 8424.65]\n",
    "\n",
    "\n",
    "# Create x axis\n",
    "xaxis = np.linspace(0,4200, 4200)\n",
    "\n",
    "%matplotlib notebook\n",
    "\n",
    "fig = plt.figure(figsize=(9,5))\n",
    "plt.grid(alpha=0.4)\n",
    "plt.plot(red_arc_normed)\n",
    "\n",
    "line_pix = []\n",
    "\n",
    "for pixel in pixels_red:\n",
    "    # create gaussian to fit to the arc line\n",
    "    p0 = [0.4, pixel, 3.0]\n",
    "    coeffs, covar = optimize.curve_fit(gauss, xaxis[int(pixel-10):int(pixel+10)], red_arc_normed[int(pixel-10):int(pixel+10)], p0=p0, \n",
    "                                       bounds=([0.05, pixel-5, 1.0], [1.0, pixel+5, 6.0]))\n",
    "    line_pix.append(coeffs[1])\n",
    "    plt.plot(np.linspace(pixel-5, pixel+5, 10), gauss(np.linspace(pixel-5, pixel+5, 10), *coeffs))\n",
    "    \n",
    "    \n",
    "sol_red = []\n",
    "for i in range(len(wavelengths_red)):\n",
    "    sol_red.append(wavelengths_red[i]-line_pix[i])\n",
    "\n",
    "plt.grid(alpha=0.4)\n",
    "plt.show()\n",
    "\n",
    "# %matplotlib notebook\n",
    "# plt.plot(line_pix, wavelengths_red)"
   ]
  },
  {
   "cell_type": "code",
   "execution_count": null,
   "metadata": {},
   "outputs": [],
   "source": [
    "# Lets try and find a wavelength calibration solution\n",
    "# Fit Red wavelength solutions\n",
    "\n",
    "# initial guess\n",
    "p0 = [1.4, 4440]\n",
    "\n",
    "fit_red, cov_red = optimize.curve_fit(wavesol, line_pix, wavelengths_red, p0=p0)\n",
    "\n",
    "print(fit_red)\n",
    "\n",
    "wavered = wavesol(xaxis, *fit_red)\n",
    "\n",
    "%matplotlib notebook\n",
    "\n",
    "plt.plot(line_pix, wavelengths_red, 'ko')\n",
    "plt.plot(xaxis, wavered)\n",
    "\n",
    "plt.grid(alpha=0.4)\n",
    "\n",
    "plt.show()"
   ]
  },
  {
   "cell_type": "code",
   "execution_count": null,
   "metadata": {},
   "outputs": [],
   "source": [
    "### Calculate CRPIX and CRDELT values based on new wavelength range and then update the header of the SCI file\n",
    "\n",
    "target = 'SP1708+602'\n",
    "\n",
    "# print(len(wavered))\n",
    "# print(wavered[0], max(wavered))\n",
    "\n",
    "# crval1 = wavered[0]\n",
    "# cdelt1 = (wavered[-1]-wavered[0])/len(wavered)\n",
    "\n",
    "### from known values\n",
    "crval1 = 4215.210956910993\n",
    "cdelt1 = 1.566343826578995\n",
    "cunit1 = 'Angstrom'\n",
    "\n",
    "print(crval1, cdelt1, cunit1)\n",
    "\n",
    "## Update sci file\n",
    "scidata, scihead = fits.getdata(\"./processed_new/FLUX/%s.fits\" %target, header=True)\n",
    "\n",
    "scihead['CRVAL1'] = crval1\n",
    "scihead['CRVAL2'] = 1.0\n",
    "scihead['CDELT1'] = cdelt1\n",
    "scihead['CRPIX2'] = 185.0\n",
    "scihead['CUNIT1'] = cunit1\n",
    "scihead['CUNIT2'] = 'Arcsec'\n",
    "scihead['CTYPE1'] = 'LINEAR'\n",
    "scihead['CTYPE2'] = 'LINEAR'\n",
    "scihead['CD1_1'] = cdelt1\n",
    "scihead['CD2_2'] = 0.44\n",
    "scihead['PV2_1'] = 1.0\n",
    "\n",
    "fits.writeto(\"./processed_new/FLUX/%s_WC.fits\" %target, scidata, header=scihead, overwrite=True)\n",
    "\n",
    "print(\"Wavelength calibration complete.\")"
   ]
  },
  {
   "cell_type": "markdown",
   "metadata": {},
   "source": [
    "## Extraction of 1D spectrum from 2D\n",
    "\n",
    "Import the WC 2D spectrum and extract a 1D spectrum using an aperture. We will save the output spectrum as an MPDAF Spectrum object"
   ]
  },
  {
   "cell_type": "code",
   "execution_count": null,
   "metadata": {},
   "outputs": [],
   "source": [
    "## Read in the 2D spectrum\n",
    "\n",
    "# target = \"SP1134+300\"\n",
    "spec2d, spechead = fits.getdata(\"./processed_new/SCI/AT2021VLU.fits\" %target, header=True)\n",
    "\n",
    "## Read in the wavelength axis values\n",
    "cdelt = spechead['CDELT1']\n",
    "crval = spechead['CRVAL1']\n",
    "\n",
    "wavelength_1d = WaveCoord(cdelt=cdelt, crval=crval, cunit=u.Angstrom)\n",
    "\n",
    "central_pix = 185\n",
    "aperture = 5\n",
    "\n",
    "spectrum_1d = np.sum(spec2d[central_pix-aperture:central_pix+aperture,:], axis=0)\n",
    "# print(np.shape(spectrum_1d))\n",
    "\n",
    "spectrum_mpdaf = Spectrum(wave=wavelength_1d, data=spectrum_1d, data_header=spechead)\n",
    "\n",
    "%matplotlib notebook\n",
    "fig = plt.figure(figsize=(10,4))\n",
    "plt.grid(alpha=0.4)\n",
    "\n",
    "spectrum_mpdaf.rebin(1).plot(color='k')\n",
    "plt.xlim(5600, 9600)\n",
    "# plt.ylim(-20,100)\n",
    "\n",
    "### Show lines\n",
    "# z = 6.246\n",
    "# plt.axvline(1216.0*(1+z), color='k', ls='--', alpha=0.5)\n",
    "# plt.axvline(1037.6*(1+z), color='k', ls='--', alpha=0.5)\n",
    "# plt.axvline(949.74*(1+z), color='k', ls='--', alpha=0.5)\n",
    "# plt.axvline(1240.*(1+z), color='k', ls='--', alpha=0.5)\n",
    "# plt.axvline(1302.*(1+z), color='k', ls='--', alpha=0.5)\n",
    "# #plt.axvline(7452.538*(1+z), color='k', ls='--', alpha=0.5)\n",
    "\n",
    "# plt.savefig(\"./processed_new/FLUX/%s_1D.png\" %target, overwrite=True)\n",
    "plt.show()\n",
    "\n",
    "spectrum_mpdaf.write(\"./processed_new/FLUX/%s_1D.fits\" %target)\n",
    "\n",
    "print(\"1D spectrum extracted\")"
   ]
  },
  {
   "cell_type": "markdown",
   "metadata": {},
   "source": [
    "## Flux calibration"
   ]
  },
  {
   "cell_type": "code",
   "execution_count": null,
   "metadata": {},
   "outputs": [],
   "source": [
    "#######################\n",
    "objects = [\"SP1708+602\"] # Enter flux calibrator object name(s) (see from observing log)\n",
    "#######################\n",
    "\n",
    "try:\n",
    "    os.mkdir(\"./processed_new/FLUX/\")\n",
    "except OSError:\n",
    "    pass\n",
    "\n",
    "### Ignore masked array warnings\n",
    "warnings.filterwarnings(\"ignore\", category=UserWarning)\n",
    "\n",
    "### Refresh the file list to include new exposures\n",
    "ic1 = ImageFileCollection(workdir)\n",
    "    \n",
    "### Reduce science frame\n",
    "for objname in objects:\n",
    "    print(\"Reducing:\", objname)\n",
    "    target_list = []\n",
    "    for ifx, filename in enumerate(ic1.files_filtered(obstype='TARGET', object=objname)):\n",
    "        print('{0} {1}'.format(ifx+1, filename))\n",
    "        hdu = fits.open(ic1.location + filename)\n",
    "        ccd = CCDData(hdu[1].data, header=hdu[0].header+hdu[1].header, unit = u.adu)\n",
    "        #this has to be fixed as the bias section does not include the whole section that will be trimmed\n",
    "\n",
    "        ccd = ccdproc.cosmicray_lacosmic(ccd, sigclip=4., niter=10, sigfrac=0.3, psffwhm=2.5, \n",
    "                                         gain=ccd.header['GAIN'], readnoise=ccd.header['READNOIS'])\n",
    "        ccd = ccdproc.subtract_overscan(ccd, median=True,  overscan_axis=0, fits_section=ccd.header['BIASSEC'])\n",
    "        ccd = ccdproc.trim_image(ccd, fits_section=ccd.header['TRIMSEC'] )\n",
    "        ccd = ccdproc.subtract_bias(ccd, master_bias)\n",
    "        ccd = ccdproc.flat_correct(ccd, master_skyflat)\n",
    "\n",
    "\n",
    "        # Do sky subtraction\n",
    "        # ccd.mask[:,690:700] = True\n",
    "        sky = fit_background(np.ma.array(ccd.data, mask=ccd.mask))\n",
    "        ccd.data -= sky\n",
    "\n",
    "        # Rotate Frame\n",
    "\n",
    "        ccd.data = ccd.data.T\n",
    "        ccd.mask = ccd.mask.T\n",
    "        #ccd.write('obj_'+filename, overwrite=True)\n",
    "        target_list.append(ccd)\n",
    "\n",
    "    red_target = ccdproc.combine(target_list, method='median')\n",
    "\n",
    "    red_target.write('./processed_new/FLUX/{0}.fits'.format(target_list[0].header['object']), overwrite=True)\n",
    "\n",
    "    print(\"Reduced object\")"
   ]
  },
  {
   "cell_type": "code",
   "execution_count": null,
   "metadata": {},
   "outputs": [],
   "source": [
    "## Read in the standard star spectrum\n",
    "\n",
    "fluxdata = np.loadtxt(\"./processed/FLUX/SP1708+602.txt\")\n",
    "\n",
    "wave = np.zeros(len(fluxdata))\n",
    "flux_AB = np.zeros(len(fluxdata))\n",
    "flux = np.zeros(len(fluxdata))\n",
    "\n",
    "for i in range(len(fluxdata)):\n",
    "    wave[i] = fluxdata[i][0]\n",
    "    flux_AB[i] = fluxdata[i][1]\n",
    "    flux_Jy = 10**(-(flux_AB[i] - 8.9)/2.5) # Flux in Jy\n",
    "    flux_nu = flux_Jy * 1e-23\n",
    "    flux[i] = flux_nu * (3e18)/(wave[i]**2)"
   ]
  },
  {
   "cell_type": "code",
   "execution_count": null,
   "metadata": {},
   "outputs": [],
   "source": [
    "## Fit polynomial to the spectrum to visualise the fitting.\n",
    "## Play around with the type of polynomial and/or degree until satisfied with the fit \n",
    "cont = np.polyfit(wave, flux_AB, 2)\n",
    "\n",
    "xaxis = np.linspace(3000, 9000, 1000)\n",
    "fluxpol = np.polyval(cont, xaxis)\n",
    "\n",
    "%matplotlib notebook\n",
    "fig = plt.figure(figsize=(10,5))\n",
    "plt.grid(alpha=0.4)\n",
    "\n",
    "plt.plot(wave, flux_AB)\n",
    "plt.plot(xaxis, fluxpol)\n",
    "\n",
    "# plt.yscale('log')\n",
    "plt.show()"
   ]
  },
  {
   "cell_type": "code",
   "execution_count": null,
   "metadata": {},
   "outputs": [],
   "source": [
    "### Look at atmopheric extinction curve\n",
    "data = np.loadtxt(\"/Users/aayushsaxena/Desktop/phd/HzQ_2019/Data/extinction.dat.txt\")\n",
    "\n",
    "print(len(data))\n",
    "\n",
    "w_corr = np.zeros(len(data))\n",
    "fcorr_AB = np.zeros(len(data))\n",
    "f_corr = np.zeros(len(data))\n",
    "\n",
    "### convert the extinction magnitude into flux density\n",
    "### Add the flux density to the final calibrated flux, taking also into account the airmass\n",
    "\n",
    "# for i in range(len(data)):\n",
    "#     wl.append(data[i][0])\n",
    "#     ext.append(data[i][1])\n",
    "    \n",
    "for i in range(len(data)):\n",
    "    w_corr[i] = (data[i][0])\n",
    "    fcorr_AB[i] = data[i][1]\n",
    "#     flux_Jy = 10**(-(f_AB[i] - 8.9)/2.5) # Flux in Jy\n",
    "#     flux_nu = flux_Jy * 1e-23\n",
    "#     f_corr[i] = flux_nu * (3e18)/(w_corr[i]**2)\n",
    "    \n",
    "%matplotlib notebook\n",
    "plt.plot(w_corr, fcorr_AB)\n",
    "\n",
    "plt.yscale('log')\n",
    "\n",
    "# plt.xlim(5000, 9600)\n",
    "# plt.ylim(0.0, 0.2)\n",
    "\n",
    "plt.show()"
   ]
  },
  {
   "cell_type": "code",
   "execution_count": null,
   "metadata": {},
   "outputs": [],
   "source": [
    "## Fit polynomial to the spectrum to visualise the fitting.\n",
    "## Play around with the type of polynomial and/or degree until satisfied with the fit \n",
    "extinction = np.polyfit(w_corr, np.log10(fcorr_AB), 5)\n",
    "\n",
    "xcorr= np.linspace(3000, 11000, 1000)\n",
    "extpol = np.polyval(extinction, xcorr)\n",
    "\n",
    "%matplotlib notebook\n",
    "fig = plt.figure(figsize=(10,5))\n",
    "plt.grid(alpha=0.4)\n",
    "\n",
    "plt.plot(w_corr,fcorr_AB)\n",
    "plt.plot(xcorr, 10**(extpol))\n",
    "\n",
    "plt.yscale('log')\n",
    "plt.show()"
   ]
  },
  {
   "cell_type": "code",
   "execution_count": null,
   "metadata": {},
   "outputs": [],
   "source": [
    "### Let's fold in the atmospheric extinction correction to obtain the \"observed\" spectrum\n",
    "### which will then be compared with the extracted 1D\n",
    "\n",
    "### m(λ)=m0(λ)+κ(λ)X(z)\n",
    "\n",
    "x_obs = np.linspace(4000, 10000)\n",
    "obs_AB = np.zeros(len(x_obs))\n",
    "\n",
    "########\n",
    "airmass = 1.15\n",
    "########\n",
    "\n",
    "### Evaluate polynomials on the new xaxis\n",
    "stdflux = np.polyval(cont, x_obs)\n",
    "corrflux = np.polyval(extinction, x_obs)\n",
    "\n",
    "for i in range(len(x_obs)):\n",
    "    obs_AB[i] = (stdflux[i]) + (10**(corrflux[i]) * airmass)\n",
    "\n",
    "### Display the extinction corrected flux standard\n",
    "%matplotlib notebook\n",
    "fig = plt.figure(figsize=(10,5))\n",
    "plt.grid(alpha=0.4)\n",
    "\n",
    "# plt.plot(wave,flux_AB)\n",
    "plt.plot(x_obs, obs_AB)\n",
    "\n",
    "# plt.yscale('log')\n",
    "plt.show()"
   ]
  },
  {
   "cell_type": "code",
   "execution_count": null,
   "metadata": {},
   "outputs": [],
   "source": [
    "### Now convert the ext corrected flux of standard star to erg/s\n",
    "\n",
    "flux = np.zeros(len(x_obs))\n",
    "\n",
    "for i in range(len(flux)):\n",
    "    flux_Jy = 10**(-(obs_AB[i] - 8.9)/2.5) # Flux in Jy\n",
    "    flux_nu = flux_Jy * 1e-23\n",
    "    flux[i] = flux_nu * (3e18)/(7505**2)\n",
    "    \n",
    "### Fit a function to this new spectrum\n",
    "\n",
    "flux_polfit = np.polyfit(x_obs, np.log10(flux), 11)\n",
    "fluxstd_pol = np.polyval(flux_polfit, x_obs)\n",
    "\n",
    "%matplotlib notebook\n",
    "fig = plt.figure(figsize=(10,5))\n",
    "plt.grid(alpha=0.4)\n",
    "\n",
    "plt.plot(x_obs, flux)\n",
    "plt.plot(x_obs, 10**(fluxstd_pol))\n",
    "\n",
    "# plt.yscale('log')\n",
    "plt.show()"
   ]
  },
  {
   "cell_type": "code",
   "execution_count": null,
   "metadata": {},
   "outputs": [],
   "source": [
    "## Let's convert this into a mpdaf spectrum\n",
    "\n",
    "## Create a fake wavelength axis, using the crval and crdelt values from the flux standard WHT spectrum\n",
    "## Using the fitted Chebyshev functions, calculate the flux and then create and mpdaf spectrum.\n",
    "## Then create subspectra in the wavelength range probed and calculate a response function.\n",
    "## This response function must then be applied to the extracted 1D spectra, accounting for exposure times\n",
    "\n",
    "## import the actual observation of the flux standard to use as template for the mpdaf spectrum\n",
    "fluxspec, fluxhead = fits.getdata(\"./processed_new/FLUX/SP1708+602_1D.fits\",\n",
    "                                  header=True)\n",
    "\n",
    "crval = fluxhead['CRVAL1']\n",
    "cdelt = fluxhead['CDELT1']\n",
    "\n",
    "xaxis = np.zeros(len(fluxspec))\n",
    "\n",
    "xaxis[0] = crval\n",
    "\n",
    "for i in range(1, len(xaxis)):\n",
    "    xaxis[i] = xaxis[i-1] + cdelt\n",
    "    \n",
    "print(xaxis) # fake x axis defined\n",
    "                                  \n",
    "## Assign fake flux using the fitted polynomials\n",
    "fluxstd = np.zeros(len(xaxis))\n",
    "fluxstd = 10**(np.polyval(flux_polfit, xaxis))\n",
    "\n",
    "%matplotlib notebook\n",
    "\n",
    "fig = plt.figure(figsize=(10,5))\n",
    "plt.grid(alpha=0.4)\n",
    "\n",
    "plt.plot(xaxis, fluxstd)\n",
    "plt.xlim(5500, 9500)\n",
    "plt.yscale('log')\n",
    "# plt.ylim(1e-16, 1e-13)\n",
    "plt.show()"
   ]
  },
  {
   "cell_type": "code",
   "execution_count": null,
   "metadata": {},
   "outputs": [],
   "source": [
    "### Create the mpdaf spectrum\n",
    "fluxwave = WaveCoord(cdelt = cdelt, crval = crval, cunit = u.Angstrom)\n",
    "fluxspec = Spectrum(wave=fluxwave, data=fluxstd)\n",
    "\n",
    "## Show the mpdaf spectrum\n",
    "%matplotlib notebook\n",
    "\n",
    "fig = plt.figure(figsize=(10,5))\n",
    "plt.grid(alpha=0.4)\n",
    "\n",
    "fluxspec.plot()\n",
    "plt.yscale('log')\n",
    "\n",
    "plt.show()"
   ]
  },
  {
   "cell_type": "code",
   "execution_count": null,
   "metadata": {},
   "outputs": [],
   "source": [
    "## RED ARM\n",
    "## Load in the 1D extracted spectrum of the flux standard\n",
    "\n",
    "spec1d = Spectrum(\"./processed_new/FLUX/SP1708+602_1D.fits\")\n",
    "flux_exp = 600.\n",
    "\n",
    "### Let's extract a subspectrum from the original flux standard spectrum to match the targets\n",
    "### First rebin with the same wavelength delta\n",
    "\n",
    "print(len(fluxspec.data))\n",
    "print(len(spec1d.data))\n",
    "\n",
    "### Mask bad regions\n",
    "spec1d.mask_region(lmin=7563, lmax=7720, unit=u.angstrom)\n",
    "spec1d.mask_region(lmin=6514, lmax=6613, unit=u.angstrom)\n",
    "spec1d.mask_region(lmin=6836, lmax=6968, unit=u.angstrom)\n",
    "# spec1d.mask_region(lmin=7720, lmax=7977, unit=u.angstrom)\n",
    "spec1d.mask_region(lmin=8112, lmax=8270, unit=u.angstrom)\n",
    "# # spec1d.mask_region(lmin=8498, lmax=8820, unit=u.angstrom)\n",
    "spec1d.mask_region(lmin=8580, lmax=8710, unit=u.angstrom)\n",
    "\n",
    "# spec1d.mask_region(lmin=8921, lmax=9041, unit=u.angstrom)\n",
    "\n",
    "\n",
    "spec1d.interp_mask()\n",
    "\n",
    "# fluxspec = fluxstd_spec.resample(1.719097201253421, unit=u.Angstrom)\n",
    "# fluxspec_sub = fluxstd_spec.subspec(lmin=5000, lmax=9400, unit=u.Angstrom)\n",
    "# spec1d_sub = spec1d.subspec(lmin=5000, lmax=9400, unit=u.Angstrom)\n",
    "\n",
    "response_red = (spec1d.data/flux_exp) / fluxspec.data # (counts/s) / flux\n",
    "\n",
    "responsespec = Spectrum(wave=spec1d.wave, data=response_red)\n",
    "# responsespec = Spectrum(\"./processed/FLUX/response.fits\")\n",
    "\n",
    "%matplotlib notebook\n",
    "\n",
    "responsespec.rebin(5).plot()\n",
    "plt.ylim(1e14, 1e16)\n",
    "plt.xlim(5500, 9600)\n",
    "\n",
    "plt.yscale('log')\n",
    "plt.show()\n",
    "\n",
    "## Save the response spectrum\n",
    "# responsespec.rebin(5).write(\"./processed/FLUX/response.fits\")"
   ]
  },
  {
   "cell_type": "code",
   "execution_count": null,
   "metadata": {},
   "outputs": [],
   "source": [
    "### Response calculated. Now let us import target data, make a subspec between the wavelength and calibrate\n",
    "\n",
    "obj_name = \"P144+50\"\n",
    "\n",
    "scispec = Spectrum(\"./processed_new/SCI/%s_1D_new.fits\" %obj_name)\n",
    "sci_exptime = 7200.\n",
    "\n",
    "# Apply the response curve\n",
    "scispec_fc = (scispec.data/sci_exptime) / responsespec.data\n",
    "\n",
    "\n",
    "### Calculate noise from the 2D image too\n",
    "night_new, night_head = fits.getdata(\"/Users/aayushsaxena/Desktop/phd/HzQ_2019/P144+50/P144+50_WC_new.fits\",\n",
    "                                    header=True)\n",
    "\n",
    "## Read in the wavelength axis values\n",
    "cdelt = night_head['CDELT1']\n",
    "crval = night_head['CRVAL1']\n",
    "\n",
    "### Define wavelength axis for noise sepctrum\n",
    "wavelength = WaveCoord(cdelt=cdelt, crval=crval, cunit=u.Angstrom)\n",
    "\n",
    "central_pix1 = 210\n",
    "aperture1 = 5\n",
    "noise1 = np.sum(night_new[central_pix1-aperture1:central_pix1+aperture1,:], axis=0)\n",
    "\n",
    "central_pix2 = 165\n",
    "aperture2 = 5\n",
    "noise2 = np.sum(night_new[central_pix2-aperture2:central_pix2+aperture2,:], axis=0)\n",
    "\n",
    "noise = np.mean([noise1, noise2], axis=0)\n",
    "\n",
    "noise_spec = Spectrum(wave=wavelength, data=noise)\n",
    "\n",
    "### Flux calibrate the noise\n",
    "### add sky plus poissonian noise\n",
    "noise_fc = (np.sqrt(scispec.data)/sci_exptime) / responsespec.data\n",
    "\n",
    "\n",
    "# Create new spectrum object using the flux calibrated values and add error\n",
    "scispec_1d = Spectrum(wave=scispec.wave, data=scispec_fc, var=noise_fc, unit=u.erg/(u.s * u.cm**2 * u.Angstrom))\n",
    "\n",
    "noisespec_1d = Spectrum(wave=scispec.wave, data=noise_fc, unit=u.erg/(u.s * u.cm**2 * u.Angstrom))\n",
    "\n",
    "print(\"Flux calibrated spectrum produced!\")"
   ]
  },
  {
   "cell_type": "code",
   "execution_count": null,
   "metadata": {},
   "outputs": [],
   "source": [
    "### Show FC spectrum\n",
    "\n",
    "%matplotlib notebook\n",
    "fig = plt.figure(figsize=(10,3))\n",
    "plt.grid(alpha=0.4)\n",
    "\n",
    "scispec_1d.rebin(2).plot(c='k', linewidth=0.8)\n",
    "noisespec_1d.rebin(2).plot(c='orange', alpha=0.5)\n",
    "\n",
    "plt.ylim(-0.2e-17,2.5e-17)\n",
    "plt.xlim(5300, 9600)\n",
    "\n",
    "plt.xlabel(r\"Wavelength ($\\AA$)\", fontsize=14)\n",
    "plt.ylabel(r\"Flux (erg/s/cm$^2$/$\\AA$)\", fontsize=14)\n",
    "\n",
    "plt.xticks(fontsize=12)\n",
    "plt.yticks(fontsize=12)\n",
    "\n",
    "plt.savefig(\"./processed_new/SCI/%s_1D_FC.png\" %obj_name, dpi=200, bbox_inches=\"tight\", overwrite=True)\n",
    "\n",
    "plt.show()\n",
    "\n",
    "\n",
    "# Save the flux calibrated spectrum\n",
    "# scispec_1d.write(\"./processed/SCI/%s_1D_FC.fits\" %obj_name)"
   ]
  },
  {
   "cell_type": "code",
   "execution_count": null,
   "metadata": {},
   "outputs": [],
   "source": [
    "### Save the flux calibrated subspectrum in the wavelength ranges that are covered\n",
    "specfc_sub = scispec_1d.subspec(lmin=5300, lmax=9600, unit=u.angstrom)\n",
    "\n",
    "specfc_sub.write(\"./processed_new/SCI/P144+50_1D_FC.fits\")\n",
    "# %matplotlib notebook\n",
    "# specfc_sub.plot()"
   ]
  },
  {
   "cell_type": "markdown",
   "metadata": {},
   "source": [
    "## Stack 1D observations\n",
    "\n",
    "Take the extracted 1D spectra and do a summed stack in a bid to enhance signal to noise. Important to take note of the total exposure time when flux calibrating."
   ]
  },
  {
   "cell_type": "code",
   "execution_count": null,
   "metadata": {},
   "outputs": [],
   "source": [
    "## Load in the spectra\n",
    "\n",
    "specdir = \"/Users/aayushsaxena/Desktop/phd/HzQ_2019/Data/INT_2019B/\"\n",
    "\n",
    "os.chdir(specdir)\n",
    "\n",
    "spec1 = Spectrum(\"./20190526/processed/SCI/P144+50_1D.fits\")\n",
    "spec2 = Spectrum(\"./20190523/processed/SCI/P144+50_1D.fits\")\n",
    "spec3 = Spectrum(\"../20190406/trimmed/processed/SCI/P144+50_1D.fits\")"
   ]
  },
  {
   "cell_type": "code",
   "execution_count": null,
   "metadata": {},
   "outputs": [],
   "source": [
    "### Add the two spectra\n",
    "\n",
    "stack_data = spec1.data+spec2.data+spec3.data\n",
    "stack_spec = Spectrum(wave=spec1.wave, data=stack_data)\n",
    "\n",
    "\n",
    "%matplotlib notebook\n",
    "fig = plt.figure(figsize=(10,3), dpi=100)\n",
    "plt.grid(alpha=0.4)\n",
    "\n",
    "(stack_spec/227.5).rebin(2).plot(color='k')\n",
    "\n",
    "plt.xlim(6000, 9500)\n",
    "plt.ylim(-0.2,1.2)\n",
    "\n",
    "plt.xlabel(r\"Wavelength ($\\AA$)\", fontsize=12)\n",
    "plt.ylabel(\"Flux (arbitrary units)\", fontsize=12)\n",
    "\n",
    "### Show lines\n",
    "lines = [1025.7, 1034.8, 1215.7, 1240.8, 1262.6]\n",
    "line_names = [r\"Ly$\\beta$\", \"O VI\", r\"Ly$\\alpha$\", \"N V\", \"Si II\"]\n",
    "redshift = 5.66\n",
    "\n",
    "for i in range(len(lines)):\n",
    "    line_x = lines[i]*(1+redshift)\n",
    "    plt.axvline(x=line_x, ls='--', c='k', alpha=0.5)\n",
    "    plt.text(line_x+7, 1.0, line_names[i], fontsize=8, rotation=90)\n",
    "    \n",
    "# stack_spec.write(\"/Users/aayushsaxena/Desktop/phd/HzQ_2019/P144+50_stacked_1D.fits\")\n",
    "    \n",
    "# plt.savefig(\"/Users/aayushsaxena/Desktop/phd/HzQ_2019/P144+50_stacked_1D.png\", bbox_inches=\"tight\", overwrite=True)\n",
    "\n",
    "plt.show()"
   ]
  },
  {
   "cell_type": "code",
   "execution_count": null,
   "metadata": {},
   "outputs": [],
   "source": []
  },
  {
   "cell_type": "code",
   "execution_count": null,
   "metadata": {},
   "outputs": [],
   "source": [
    "len(extpol)"
   ]
  },
  {
   "cell_type": "code",
   "execution_count": null,
   "metadata": {},
   "outputs": [],
   "source": []
  }
 ],
 "metadata": {
  "kernelspec": {
   "display_name": "Python 3",
   "language": "python",
   "name": "python3"
  },
  "language_info": {
   "codemirror_mode": {
    "name": "ipython",
    "version": 3
   },
   "file_extension": ".py",
   "mimetype": "text/x-python",
   "name": "python",
   "nbconvert_exporter": "python",
   "pygments_lexer": "ipython3",
   "version": "3.8.13"
  }
 },
 "nbformat": 4,
 "nbformat_minor": 2
}
